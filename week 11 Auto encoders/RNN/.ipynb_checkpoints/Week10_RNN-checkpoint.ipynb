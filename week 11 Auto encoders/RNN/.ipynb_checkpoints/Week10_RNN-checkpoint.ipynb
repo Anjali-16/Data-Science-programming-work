{
 "cells": [
  {
   "cell_type": "markdown",
   "id": "010d4de1-7ffa-45dc-b3ee-d33e46e9eea5",
   "metadata": {},
   "source": [
    "##  In this notebook I have taken PAPA JOhns International Inc, historical stocks data for 9 days and want to predict the 10 day closing stock price.\n",
    "##  I have taken the data set from Yahoo finance website for PAPA JOHNS company for the dates april 4th 2023 to april 18th 2023 without considering weekends.\n",
    "##  As per the class I will use the dicussed algorithims RNN,LSTM,GRU,CONV1D and observe the performance of each model."
   ]
  },
  {
   "cell_type": "markdown",
   "id": "e5d4daa9-9783-40df-845d-b3552216ef1f",
   "metadata": {},
   "source": [
    "# Import the necessary libraries"
   ]
  },
  {
   "cell_type": "code",
   "execution_count": 44,
   "id": "801afbed-2eeb-4b3e-bcec-74165620b590",
   "metadata": {},
   "outputs": [],
   "source": [
    "import tensorflow as tf\n",
    "from tensorflow import keras\n",
    "from sklearn.metrics import mean_squared_error\n",
    "from sklearn.preprocessing import StandardScaler\n",
    "\n",
    "\n",
    "# Common imports\n",
    "import numpy as np\n",
    "import os\n",
    "\n",
    "# to make this notebook's output stable across runs\n",
    "np.random.seed(42)\n",
    "\n",
    "# To plot pretty figures\n",
    "%matplotlib inline\n",
    "import matplotlib as mpl\n",
    "import matplotlib.pyplot as plt\n",
    "mpl.rc('axes', labelsize=14)\n",
    "mpl.rc('xtick', labelsize=12)\n",
    "mpl.rc('ytick', labelsize=12)"
   ]
  },
  {
   "cell_type": "markdown",
   "id": "93180a70-c302-45aa-b397-c0bc93b7dda4",
   "metadata": {},
   "source": [
    "# Read the Dataset"
   ]
  },
  {
   "cell_type": "code",
   "execution_count": 45,
   "id": "3f0c6b39-18ce-420f-9d01-904232b7d14e",
   "metadata": {},
   "outputs": [
    {
     "data": {
      "text/html": [
       "<div>\n",
       "<style scoped>\n",
       "    .dataframe tbody tr th:only-of-type {\n",
       "        vertical-align: middle;\n",
       "    }\n",
       "\n",
       "    .dataframe tbody tr th {\n",
       "        vertical-align: top;\n",
       "    }\n",
       "\n",
       "    .dataframe thead th {\n",
       "        text-align: right;\n",
       "    }\n",
       "</style>\n",
       "<table border=\"1\" class=\"dataframe\">\n",
       "  <thead>\n",
       "    <tr style=\"text-align: right;\">\n",
       "      <th></th>\n",
       "      <th>Date</th>\n",
       "      <th>Open</th>\n",
       "      <th>High</th>\n",
       "      <th>Low</th>\n",
       "      <th>Close</th>\n",
       "      <th>Adj Close</th>\n",
       "      <th>Volume</th>\n",
       "    </tr>\n",
       "  </thead>\n",
       "  <tbody>\n",
       "    <tr>\n",
       "      <th>0</th>\n",
       "      <td>2023-04-05</td>\n",
       "      <td>74.730003</td>\n",
       "      <td>76.059998</td>\n",
       "      <td>74.160004</td>\n",
       "      <td>75.830002</td>\n",
       "      <td>75.830002</td>\n",
       "      <td>513000</td>\n",
       "    </tr>\n",
       "    <tr>\n",
       "      <th>1</th>\n",
       "      <td>2023-04-06</td>\n",
       "      <td>75.750000</td>\n",
       "      <td>76.860001</td>\n",
       "      <td>75.160004</td>\n",
       "      <td>76.480003</td>\n",
       "      <td>76.480003</td>\n",
       "      <td>537400</td>\n",
       "    </tr>\n",
       "    <tr>\n",
       "      <th>2</th>\n",
       "      <td>2023-04-10</td>\n",
       "      <td>76.099998</td>\n",
       "      <td>76.739998</td>\n",
       "      <td>74.879997</td>\n",
       "      <td>75.279999</td>\n",
       "      <td>75.279999</td>\n",
       "      <td>543300</td>\n",
       "    </tr>\n",
       "    <tr>\n",
       "      <th>3</th>\n",
       "      <td>2023-04-11</td>\n",
       "      <td>75.419998</td>\n",
       "      <td>77.220001</td>\n",
       "      <td>75.029999</td>\n",
       "      <td>76.699997</td>\n",
       "      <td>76.699997</td>\n",
       "      <td>568100</td>\n",
       "    </tr>\n",
       "    <tr>\n",
       "      <th>4</th>\n",
       "      <td>2023-04-12</td>\n",
       "      <td>77.430000</td>\n",
       "      <td>77.650002</td>\n",
       "      <td>76.279999</td>\n",
       "      <td>76.339996</td>\n",
       "      <td>76.339996</td>\n",
       "      <td>567500</td>\n",
       "    </tr>\n",
       "  </tbody>\n",
       "</table>\n",
       "</div>"
      ],
      "text/plain": [
       "         Date       Open       High        Low      Close  Adj Close  Volume\n",
       "0  2023-04-05  74.730003  76.059998  74.160004  75.830002  75.830002  513000\n",
       "1  2023-04-06  75.750000  76.860001  75.160004  76.480003  76.480003  537400\n",
       "2  2023-04-10  76.099998  76.739998  74.879997  75.279999  75.279999  543300\n",
       "3  2023-04-11  75.419998  77.220001  75.029999  76.699997  76.699997  568100\n",
       "4  2023-04-12  77.430000  77.650002  76.279999  76.339996  76.339996  567500"
      ]
     },
     "execution_count": 45,
     "metadata": {},
     "output_type": "execute_result"
    }
   ],
   "source": [
    "import pandas as pd\n",
    "\n",
    "stocks = pd.read_csv('PZZA.csv')\n",
    "\n",
    "stocks.head()"
   ]
  },
  {
   "cell_type": "code",
   "execution_count": 46,
   "id": "018040a9-f3ee-49a7-a272-25018fb2471c",
   "metadata": {},
   "outputs": [
    {
     "data": {
      "text/plain": [
       "(9, 7)"
      ]
     },
     "execution_count": 46,
     "metadata": {},
     "output_type": "execute_result"
    }
   ],
   "source": [
    "stocks.shape"
   ]
  },
  {
   "cell_type": "code",
   "execution_count": 47,
   "id": "24566fb2-c8bb-4e00-8bca-b2e64870d3ec",
   "metadata": {},
   "outputs": [
    {
     "name": "stdout",
     "output_type": "stream",
     "text": [
      "<class 'pandas.core.frame.DataFrame'>\n",
      "RangeIndex: 9 entries, 0 to 8\n",
      "Data columns (total 7 columns):\n",
      " #   Column     Non-Null Count  Dtype  \n",
      "---  ------     --------------  -----  \n",
      " 0   Date       9 non-null      object \n",
      " 1   Open       9 non-null      float64\n",
      " 2   High       9 non-null      float64\n",
      " 3   Low        9 non-null      float64\n",
      " 4   Close      9 non-null      float64\n",
      " 5   Adj Close  9 non-null      float64\n",
      " 6   Volume     9 non-null      int64  \n",
      "dtypes: float64(5), int64(1), object(1)\n",
      "memory usage: 632.0+ bytes\n"
     ]
    }
   ],
   "source": [
    "stocks.info()"
   ]
  },
  {
   "cell_type": "code",
   "execution_count": 48,
   "id": "c0089398-03c2-4602-acec-7976424f24f5",
   "metadata": {},
   "outputs": [
    {
     "data": {
      "text/html": [
       "<div>\n",
       "<style scoped>\n",
       "    .dataframe tbody tr th:only-of-type {\n",
       "        vertical-align: middle;\n",
       "    }\n",
       "\n",
       "    .dataframe tbody tr th {\n",
       "        vertical-align: top;\n",
       "    }\n",
       "\n",
       "    .dataframe thead th {\n",
       "        text-align: right;\n",
       "    }\n",
       "</style>\n",
       "<table border=\"1\" class=\"dataframe\">\n",
       "  <thead>\n",
       "    <tr style=\"text-align: right;\">\n",
       "      <th></th>\n",
       "      <th>Open</th>\n",
       "      <th>High</th>\n",
       "      <th>Low</th>\n",
       "      <th>Close</th>\n",
       "      <th>Adj Close</th>\n",
       "      <th>Volume</th>\n",
       "    </tr>\n",
       "  </thead>\n",
       "  <tbody>\n",
       "    <tr>\n",
       "      <th>count</th>\n",
       "      <td>9.000000</td>\n",
       "      <td>9.000000</td>\n",
       "      <td>9.000000</td>\n",
       "      <td>9.000000</td>\n",
       "      <td>9.000000</td>\n",
       "      <td>9.000000</td>\n",
       "    </tr>\n",
       "    <tr>\n",
       "      <th>mean</th>\n",
       "      <td>76.488889</td>\n",
       "      <td>77.355555</td>\n",
       "      <td>75.792223</td>\n",
       "      <td>76.626667</td>\n",
       "      <td>76.626667</td>\n",
       "      <td>485566.666667</td>\n",
       "    </tr>\n",
       "    <tr>\n",
       "      <th>std</th>\n",
       "      <td>1.078082</td>\n",
       "      <td>0.715509</td>\n",
       "      <td>0.997794</td>\n",
       "      <td>0.742681</td>\n",
       "      <td>0.742681</td>\n",
       "      <td>79405.226528</td>\n",
       "    </tr>\n",
       "    <tr>\n",
       "      <th>min</th>\n",
       "      <td>74.730003</td>\n",
       "      <td>76.059998</td>\n",
       "      <td>74.160004</td>\n",
       "      <td>75.279999</td>\n",
       "      <td>75.279999</td>\n",
       "      <td>341400.000000</td>\n",
       "    </tr>\n",
       "    <tr>\n",
       "      <th>25%</th>\n",
       "      <td>75.750000</td>\n",
       "      <td>76.860001</td>\n",
       "      <td>75.029999</td>\n",
       "      <td>76.339996</td>\n",
       "      <td>76.339996</td>\n",
       "      <td>429300.000000</td>\n",
       "    </tr>\n",
       "    <tr>\n",
       "      <th>50%</th>\n",
       "      <td>76.720001</td>\n",
       "      <td>77.459999</td>\n",
       "      <td>76.279999</td>\n",
       "      <td>76.699997</td>\n",
       "      <td>76.699997</td>\n",
       "      <td>513000.000000</td>\n",
       "    </tr>\n",
       "    <tr>\n",
       "      <th>75%</th>\n",
       "      <td>77.290001</td>\n",
       "      <td>77.760002</td>\n",
       "      <td>76.510002</td>\n",
       "      <td>77.059998</td>\n",
       "      <td>77.059998</td>\n",
       "      <td>543300.000000</td>\n",
       "    </tr>\n",
       "    <tr>\n",
       "      <th>max</th>\n",
       "      <td>78.120003</td>\n",
       "      <td>78.250000</td>\n",
       "      <td>77.089996</td>\n",
       "      <td>77.620003</td>\n",
       "      <td>77.620003</td>\n",
       "      <td>568100.000000</td>\n",
       "    </tr>\n",
       "  </tbody>\n",
       "</table>\n",
       "</div>"
      ],
      "text/plain": [
       "            Open       High        Low      Close  Adj Close         Volume\n",
       "count   9.000000   9.000000   9.000000   9.000000   9.000000       9.000000\n",
       "mean   76.488889  77.355555  75.792223  76.626667  76.626667  485566.666667\n",
       "std     1.078082   0.715509   0.997794   0.742681   0.742681   79405.226528\n",
       "min    74.730003  76.059998  74.160004  75.279999  75.279999  341400.000000\n",
       "25%    75.750000  76.860001  75.029999  76.339996  76.339996  429300.000000\n",
       "50%    76.720001  77.459999  76.279999  76.699997  76.699997  513000.000000\n",
       "75%    77.290001  77.760002  76.510002  77.059998  77.059998  543300.000000\n",
       "max    78.120003  78.250000  77.089996  77.620003  77.620003  568100.000000"
      ]
     },
     "execution_count": 48,
     "metadata": {},
     "output_type": "execute_result"
    }
   ],
   "source": [
    "stocks.describe()"
   ]
  },
  {
   "cell_type": "code",
   "execution_count": 49,
   "id": "d115e91d-1f27-4f7e-b854-738348be2390",
   "metadata": {},
   "outputs": [
    {
     "data": {
      "text/plain": [
       "Date         0\n",
       "Open         0\n",
       "High         0\n",
       "Low          0\n",
       "Close        0\n",
       "Adj Close    0\n",
       "Volume       0\n",
       "dtype: int64"
      ]
     },
     "execution_count": 49,
     "metadata": {},
     "output_type": "execute_result"
    }
   ],
   "source": [
    "# Check the missing values by summing the total na's for each variable\n",
    "stocks.isna().sum()"
   ]
  },
  {
   "cell_type": "code",
   "execution_count": 50,
   "id": "3f9ef840-3f66-446d-8738-abcd727eb8de",
   "metadata": {},
   "outputs": [
    {
     "data": {
      "image/png": "[encoded data removed]",
      "text/plain": [
       "<Figure size 640x480 with 1 Axes>"
      ]
     },
     "metadata": {},
     "output_type": "display_data"
    }
   ],
   "source": [
    "plt.plot(stocks['Close'])\n",
    "plt.show()"
   ]
  },
  {
   "cell_type": "code",
   "execution_count": 60,
   "id": "dcf44614-9a19-43e4-9e9a-bca23dfe0e4c",
   "metadata": {},
   "outputs": [],
   "source": [
    "# set features and target variable\n",
    "X = stocks.drop(['Date', 'Close'], axis=1)\n",
    "y = stocks['Close']\n"
   ]
  },
  {
   "cell_type": "code",
   "execution_count": null,
   "id": "0f23a82b-9776-4d05-8a02-7f2237a204bb",
   "metadata": {},
   "outputs": [],
   "source": []
  }
 ],
 "metadata": {
  "kernelspec": {
   "display_name": "Python 3 (ipykernel)",
   "language": "python",
   "name": "python3"
  },
  "language_info": {
   "codemirror_mode": {
    "name": "ipython",
    "version": 3
   },
   "file_extension": ".py",
   "mimetype": "text/x-python",
   "name": "python",
   "nbconvert_exporter": "python",
   "pygments_lexer": "ipython3",
   "version": "3.9.16"
  }
 },
 "nbformat": 4,
 "nbformat_minor": 5
}
