{
 "cells": [
  {
   "cell_type": "markdown",
   "metadata": {},
   "source": [
    "# Tutorial 1 - RNN Sequence classifier"
   ]
  },
  {
   "cell_type": "markdown",
   "metadata": {},
   "source": [
    "In this notebook, we will predict the winner of a basketball game based on the scores observed in the first 3 quarters of the game. Each column represents the beginning of a minute during the game. (There are 12 minutes in each quarter. There are  3 quarters in the data, so we have 36 columns as input variables in chronological order.) The values captured in each column represent the score difference observed at that minute (home score minus away score)<br><br>\n",
    "\n",
    "The last column `W` represents whether the home team (1) or the away team (0) won the game. This is the target variable. <br><br>\n",
    "**Our unit of analysis is a single game.**"
   ]
  },
  {
   "cell_type": "code",
   "execution_count": 1,
   "metadata": {},
   "outputs": [],
   "source": [
    "# Common imports\n",
    "import numpy as np\n",
    "import tensorflow as tf\n",
    "from tensorflow import keras\n",
    "import pandas as pd\n",
    "\n",
    "np.random.seed(1)\n",
    "tf.random.set_seed(1)"
   ]
  },
  {
   "cell_type": "markdown",
   "metadata": {},
   "source": [
    "## Get the data"
   ]
  },
  {
   "cell_type": "code",
   "execution_count": 2,
   "metadata": {},
   "outputs": [],
   "source": [
    "data = pd.read_csv(\"basketball.csv\")"
   ]
  },
  {
   "cell_type": "code",
   "execution_count": 3,
   "metadata": {},
   "outputs": [
    {
     "data": {
      "text/plain": [
       "(1230, 37)"
      ]
     },
     "execution_count": 3,
     "metadata": {},
     "output_type": "execute_result"
    }
   ],
   "source": [
    "data.shape"
   ]
  },
  {
   "cell_type": "code",
   "execution_count": 4,
   "metadata": {},
   "outputs": [
    {
     "data": {
      "text/html": [
       "<div>\n",
       "<style scoped>\n",
       "    .dataframe tbody tr th:only-of-type {\n",
       "        vertical-align: middle;\n",
       "    }\n",
       "\n",
       "    .dataframe tbody tr th {\n",
       "        vertical-align: top;\n",
       "    }\n",
       "\n",
       "    .dataframe thead th {\n",
       "        text-align: right;\n",
       "    }\n",
       "</style>\n",
       "<table border=\"1\" class=\"dataframe\">\n",
       "  <thead>\n",
       "    <tr style=\"text-align: right;\">\n",
       "      <th></th>\n",
       "      <th>M1</th>\n",
       "      <th>M2</th>\n",
       "      <th>M3</th>\n",
       "      <th>M4</th>\n",
       "      <th>M5</th>\n",
       "      <th>M6</th>\n",
       "      <th>M7</th>\n",
       "      <th>M8</th>\n",
       "      <th>M9</th>\n",
       "      <th>M10</th>\n",
       "      <th>...</th>\n",
       "      <th>M28</th>\n",
       "      <th>M29</th>\n",
       "      <th>M30</th>\n",
       "      <th>M31</th>\n",
       "      <th>M32</th>\n",
       "      <th>M33</th>\n",
       "      <th>M34</th>\n",
       "      <th>M35</th>\n",
       "      <th>M36</th>\n",
       "      <th>W</th>\n",
       "    </tr>\n",
       "  </thead>\n",
       "  <tbody>\n",
       "    <tr>\n",
       "      <th>0</th>\n",
       "      <td>-2</td>\n",
       "      <td>-1</td>\n",
       "      <td>1</td>\n",
       "      <td>1</td>\n",
       "      <td>-1</td>\n",
       "      <td>-3</td>\n",
       "      <td>-1</td>\n",
       "      <td>0</td>\n",
       "      <td>3</td>\n",
       "      <td>6</td>\n",
       "      <td>...</td>\n",
       "      <td>9</td>\n",
       "      <td>11</td>\n",
       "      <td>10</td>\n",
       "      <td>7</td>\n",
       "      <td>7</td>\n",
       "      <td>4</td>\n",
       "      <td>6</td>\n",
       "      <td>2</td>\n",
       "      <td>1</td>\n",
       "      <td>1</td>\n",
       "    </tr>\n",
       "    <tr>\n",
       "      <th>1</th>\n",
       "      <td>0</td>\n",
       "      <td>2</td>\n",
       "      <td>7</td>\n",
       "      <td>6</td>\n",
       "      <td>10</td>\n",
       "      <td>8</td>\n",
       "      <td>8</td>\n",
       "      <td>6</td>\n",
       "      <td>0</td>\n",
       "      <td>6</td>\n",
       "      <td>...</td>\n",
       "      <td>7</td>\n",
       "      <td>11</td>\n",
       "      <td>11</td>\n",
       "      <td>14</td>\n",
       "      <td>14</td>\n",
       "      <td>15</td>\n",
       "      <td>13</td>\n",
       "      <td>13</td>\n",
       "      <td>13</td>\n",
       "      <td>0</td>\n",
       "    </tr>\n",
       "    <tr>\n",
       "      <th>2</th>\n",
       "      <td>0</td>\n",
       "      <td>-2</td>\n",
       "      <td>2</td>\n",
       "      <td>0</td>\n",
       "      <td>5</td>\n",
       "      <td>4</td>\n",
       "      <td>5</td>\n",
       "      <td>3</td>\n",
       "      <td>5</td>\n",
       "      <td>3</td>\n",
       "      <td>...</td>\n",
       "      <td>9</td>\n",
       "      <td>11</td>\n",
       "      <td>13</td>\n",
       "      <td>13</td>\n",
       "      <td>12</td>\n",
       "      <td>17</td>\n",
       "      <td>15</td>\n",
       "      <td>15</td>\n",
       "      <td>12</td>\n",
       "      <td>1</td>\n",
       "    </tr>\n",
       "    <tr>\n",
       "      <th>3</th>\n",
       "      <td>0</td>\n",
       "      <td>2</td>\n",
       "      <td>0</td>\n",
       "      <td>3</td>\n",
       "      <td>4</td>\n",
       "      <td>3</td>\n",
       "      <td>5</td>\n",
       "      <td>4</td>\n",
       "      <td>3</td>\n",
       "      <td>1</td>\n",
       "      <td>...</td>\n",
       "      <td>10</td>\n",
       "      <td>6</td>\n",
       "      <td>7</td>\n",
       "      <td>7</td>\n",
       "      <td>8</td>\n",
       "      <td>8</td>\n",
       "      <td>8</td>\n",
       "      <td>8</td>\n",
       "      <td>8</td>\n",
       "      <td>1</td>\n",
       "    </tr>\n",
       "    <tr>\n",
       "      <th>4</th>\n",
       "      <td>0</td>\n",
       "      <td>-2</td>\n",
       "      <td>-2</td>\n",
       "      <td>0</td>\n",
       "      <td>3</td>\n",
       "      <td>-2</td>\n",
       "      <td>-7</td>\n",
       "      <td>-5</td>\n",
       "      <td>-7</td>\n",
       "      <td>-4</td>\n",
       "      <td>...</td>\n",
       "      <td>10</td>\n",
       "      <td>10</td>\n",
       "      <td>15</td>\n",
       "      <td>13</td>\n",
       "      <td>11</td>\n",
       "      <td>11</td>\n",
       "      <td>11</td>\n",
       "      <td>13</td>\n",
       "      <td>10</td>\n",
       "      <td>1</td>\n",
       "    </tr>\n",
       "  </tbody>\n",
       "</table>\n",
       "<p>5 rows × 37 columns</p>\n",
       "</div>"
      ],
      "text/plain": [
       "   M1  M2  M3  M4  M5  M6  M7  M8  M9  M10  ...  M28  M29  M30  M31  M32  M33  \\\n",
       "0  -2  -1   1   1  -1  -3  -1   0   3    6  ...    9   11   10    7    7    4   \n",
       "1   0   2   7   6  10   8   8   6   0    6  ...    7   11   11   14   14   15   \n",
       "2   0  -2   2   0   5   4   5   3   5    3  ...    9   11   13   13   12   17   \n",
       "3   0   2   0   3   4   3   5   4   3    1  ...   10    6    7    7    8    8   \n",
       "4   0  -2  -2   0   3  -2  -7  -5  -7   -4  ...   10   10   15   13   11   11   \n",
       "\n",
       "   M34  M35  M36  W  \n",
       "0    6    2    1  1  \n",
       "1   13   13   13  0  \n",
       "2   15   15   12  1  \n",
       "3    8    8    8  1  \n",
       "4   11   13   10  1  \n",
       "\n",
       "[5 rows x 37 columns]"
      ]
     },
     "execution_count": 4,
     "metadata": {},
     "output_type": "execute_result"
    }
   ],
   "source": [
    "data.head()"
   ]
  },
  {
   "cell_type": "code",
   "execution_count": 5,
   "metadata": {},
   "outputs": [],
   "source": [
    "y = data['W']\n",
    "X = data.drop('W', axis=1)"
   ]
  },
  {
   "cell_type": "markdown",
   "metadata": {},
   "source": [
    "## Split the data"
   ]
  },
  {
   "cell_type": "code",
   "execution_count": 6,
   "metadata": {},
   "outputs": [],
   "source": [
    "from sklearn.model_selection import train_test_split\n",
    "\n",
    "X_train, X_test, y_train, y_test = train_test_split(X, y, test_size=0.3)"
   ]
  },
  {
   "cell_type": "markdown",
   "metadata": {},
   "source": [
    "## Data Transformation"
   ]
  },
  {
   "cell_type": "code",
   "execution_count": 7,
   "metadata": {},
   "outputs": [],
   "source": [
    "#Target variables need to be an array with integer type\n",
    "y_train = np.array(y_train)\n",
    "y_test = np.array(y_test)\n",
    "\n",
    "y_train = y_train.astype(np.int32)\n",
    "y_test = y_test.astype(np.int32)"
   ]
  },
  {
   "cell_type": "code",
   "execution_count": 8,
   "metadata": {
    "scrolled": true
   },
   "outputs": [
    {
     "data": {
      "text/plain": [
       "array([0, 1, 1, 1, 1, 1, 0, 0, 0, 0])"
      ]
     },
     "execution_count": 8,
     "metadata": {},
     "output_type": "execute_result"
    }
   ],
   "source": [
    "#Check the first 10 values of the train_y data set\n",
    "y_train[0:10]"
   ]
  },
  {
   "cell_type": "code",
   "execution_count": 9,
   "metadata": {},
   "outputs": [],
   "source": [
    "#Convert input variables to a 2-D array with float data type\n",
    "X_train = np.array(X_train)\n",
    "X_test = np.array(X_test)\n",
    "\n",
    "X_train = X_train.astype(np.float32)\n",
    "X_test = X_test.astype(np.float32)"
   ]
  },
  {
   "cell_type": "code",
   "execution_count": 10,
   "metadata": {},
   "outputs": [
    {
     "data": {
      "text/plain": [
       "array([[ -3.,  -3.,  -2., ...,  -5.,  -3.,  -7.],\n",
       "       [  0.,   1.,  -1., ...,  10.,  12.,  15.],\n",
       "       [ -3.,  -2.,  -2., ...,  14.,  12.,  12.],\n",
       "       ...,\n",
       "       [  2.,   6.,   8., ...,  -2.,   1.,   0.],\n",
       "       [ -2.,   1.,  -1., ..., -19., -21., -14.],\n",
       "       [  2.,   1.,   3., ...,   0.,   2.,   4.]], dtype=float32)"
      ]
     },
     "execution_count": 10,
     "metadata": {},
     "output_type": "execute_result"
    }
   ],
   "source": [
    "X_train"
   ]
  },
  {
   "cell_type": "code",
   "execution_count": 11,
   "metadata": {},
   "outputs": [],
   "source": [
    "#Keras expects a different input format:\n",
    "#Data needs to have 3 dimensions\n",
    "\n",
    "X_train = np.reshape(X_train, (X_train.shape[0], X_train.shape[1], 1))\n",
    "X_test = np.reshape(X_test, (X_test.shape[0], X_test.shape[1], 1))"
   ]
  },
  {
   "cell_type": "code",
   "execution_count": 12,
   "metadata": {},
   "outputs": [
    {
     "data": {
      "text/plain": [
       "((861, 36, 1), (861,))"
      ]
     },
     "execution_count": 12,
     "metadata": {},
     "output_type": "execute_result"
    }
   ],
   "source": [
    "X_train.shape, y_train.shape"
   ]
  },
  {
   "cell_type": "code",
   "execution_count": 13,
   "metadata": {},
   "outputs": [
    {
     "data": {
      "text/plain": [
       "array([[[ -3.],\n",
       "        [ -3.],\n",
       "        [ -2.],\n",
       "        ...,\n",
       "        [ -5.],\n",
       "        [ -3.],\n",
       "        [ -7.]],\n",
       "\n",
       "       [[  0.],\n",
       "        [  1.],\n",
       "        [ -1.],\n",
       "        ...,\n",
       "        [ 10.],\n",
       "        [ 12.],\n",
       "        [ 15.]],\n",
       "\n",
       "       [[ -3.],\n",
       "        [ -2.],\n",
       "        [ -2.],\n",
       "        ...,\n",
       "        [ 14.],\n",
       "        [ 12.],\n",
       "        [ 12.]],\n",
       "\n",
       "       ...,\n",
       "\n",
       "       [[  2.],\n",
       "        [  6.],\n",
       "        [  8.],\n",
       "        ...,\n",
       "        [ -2.],\n",
       "        [  1.],\n",
       "        [  0.]],\n",
       "\n",
       "       [[ -2.],\n",
       "        [  1.],\n",
       "        [ -1.],\n",
       "        ...,\n",
       "        [-19.],\n",
       "        [-21.],\n",
       "        [-14.]],\n",
       "\n",
       "       [[  2.],\n",
       "        [  1.],\n",
       "        [  3.],\n",
       "        ...,\n",
       "        [  0.],\n",
       "        [  2.],\n",
       "        [  4.]]], dtype=float32)"
      ]
     },
     "execution_count": 13,
     "metadata": {},
     "output_type": "execute_result"
    }
   ],
   "source": [
    "X_train"
   ]
  },
  {
   "cell_type": "markdown",
   "metadata": {},
   "source": [
    "# A normal (cross-sectional) NN\n",
    "\n",
    "This model assumes that the data is NOT a time-series data set. It treats the data as cross-sectional and the columns being independent of each other."
   ]
  },
  {
   "cell_type": "code",
   "execution_count": 14,
   "metadata": {},
   "outputs": [],
   "source": [
    "model = keras.models.Sequential([\n",
    "    \n",
    "    keras.layers.Flatten(input_shape=[36, 1]),\n",
    "    keras.layers.Dense(36, activation='relu'),\n",
    "    keras.layers.Dense(1, activation='sigmoid')\n",
    "    \n",
    "])"
   ]
  },
  {
   "cell_type": "code",
   "execution_count": 15,
   "metadata": {
    "scrolled": true
   },
   "outputs": [
    {
     "name": "stdout",
     "output_type": "stream",
     "text": [
      "Epoch 1/50\n",
      "27/27 [==============================] - 1s 11ms/step - loss: 0.9616 - accuracy: 0.6876 - val_loss: 0.7084 - val_accuracy: 0.7154\n",
      "Epoch 2/50\n",
      "27/27 [==============================] - 0s 3ms/step - loss: 0.6432 - accuracy: 0.7747 - val_loss: 0.4974 - val_accuracy: 0.8049\n",
      "Epoch 3/50\n",
      "27/27 [==============================] - 0s 3ms/step - loss: 0.4642 - accuracy: 0.7782 - val_loss: 0.5270 - val_accuracy: 0.7995\n",
      "Epoch 4/50\n",
      "27/27 [==============================] - 0s 3ms/step - loss: 0.4356 - accuracy: 0.7921 - val_loss: 0.5083 - val_accuracy: 0.8022\n",
      "Epoch 5/50\n",
      "27/27 [==============================] - 0s 3ms/step - loss: 0.4030 - accuracy: 0.8188 - val_loss: 0.4540 - val_accuracy: 0.8103\n",
      "Epoch 6/50\n",
      "27/27 [==============================] - 0s 3ms/step - loss: 0.4052 - accuracy: 0.8072 - val_loss: 0.5229 - val_accuracy: 0.7615\n",
      "Epoch 7/50\n",
      "27/27 [==============================] - 0s 3ms/step - loss: 0.4018 - accuracy: 0.8084 - val_loss: 0.4700 - val_accuracy: 0.8076\n",
      "Epoch 8/50\n",
      "27/27 [==============================] - 0s 3ms/step - loss: 0.3942 - accuracy: 0.8304 - val_loss: 0.4741 - val_accuracy: 0.7940\n",
      "Epoch 9/50\n",
      "27/27 [==============================] - 0s 3ms/step - loss: 0.3625 - accuracy: 0.8304 - val_loss: 0.4730 - val_accuracy: 0.7832\n",
      "Epoch 10/50\n",
      "27/27 [==============================] - 0s 3ms/step - loss: 0.3671 - accuracy: 0.8409 - val_loss: 0.4566 - val_accuracy: 0.7913\n",
      "Epoch 11/50\n",
      "27/27 [==============================] - 0s 3ms/step - loss: 0.3535 - accuracy: 0.8397 - val_loss: 0.5691 - val_accuracy: 0.8103\n",
      "Epoch 12/50\n",
      "27/27 [==============================] - 0s 3ms/step - loss: 0.3559 - accuracy: 0.8420 - val_loss: 0.4678 - val_accuracy: 0.7913\n",
      "Epoch 13/50\n",
      "27/27 [==============================] - 0s 3ms/step - loss: 0.3674 - accuracy: 0.8339 - val_loss: 0.4789 - val_accuracy: 0.8022\n",
      "Epoch 14/50\n",
      "27/27 [==============================] - 0s 3ms/step - loss: 0.3558 - accuracy: 0.8455 - val_loss: 0.7681 - val_accuracy: 0.8076\n",
      "Epoch 15/50\n",
      "27/27 [==============================] - 0s 3ms/step - loss: 0.3937 - accuracy: 0.8304 - val_loss: 0.5107 - val_accuracy: 0.7913\n",
      "Epoch 16/50\n",
      "27/27 [==============================] - 0s 3ms/step - loss: 0.3311 - accuracy: 0.8444 - val_loss: 0.4725 - val_accuracy: 0.7859\n",
      "Epoch 17/50\n",
      "27/27 [==============================] - 0s 3ms/step - loss: 0.3308 - accuracy: 0.8502 - val_loss: 0.5545 - val_accuracy: 0.8022\n",
      "Epoch 18/50\n",
      "27/27 [==============================] - 0s 3ms/step - loss: 0.3507 - accuracy: 0.8467 - val_loss: 0.4761 - val_accuracy: 0.7913\n",
      "Epoch 19/50\n",
      "27/27 [==============================] - 0s 3ms/step - loss: 0.3327 - accuracy: 0.8409 - val_loss: 0.5040 - val_accuracy: 0.7669\n",
      "Epoch 20/50\n",
      "27/27 [==============================] - 0s 3ms/step - loss: 0.3128 - accuracy: 0.8699 - val_loss: 0.5950 - val_accuracy: 0.7534\n",
      "Epoch 21/50\n",
      "27/27 [==============================] - 0s 3ms/step - loss: 0.3522 - accuracy: 0.8386 - val_loss: 0.5003 - val_accuracy: 0.8022\n",
      "Epoch 22/50\n",
      "27/27 [==============================] - 0s 3ms/step - loss: 0.3204 - accuracy: 0.8502 - val_loss: 0.5081 - val_accuracy: 0.7669\n",
      "Epoch 23/50\n",
      "27/27 [==============================] - 0s 3ms/step - loss: 0.3271 - accuracy: 0.8595 - val_loss: 0.5202 - val_accuracy: 0.7913\n",
      "Epoch 24/50\n",
      "27/27 [==============================] - 0s 3ms/step - loss: 0.3060 - accuracy: 0.8630 - val_loss: 0.5471 - val_accuracy: 0.7588\n",
      "Epoch 25/50\n",
      "27/27 [==============================] - 0s 3ms/step - loss: 0.3067 - accuracy: 0.8664 - val_loss: 0.5396 - val_accuracy: 0.7669\n",
      "Epoch 26/50\n",
      "27/27 [==============================] - 0s 3ms/step - loss: 0.3000 - accuracy: 0.8757 - val_loss: 0.5782 - val_accuracy: 0.7615\n",
      "Epoch 27/50\n",
      "27/27 [==============================] - 0s 3ms/step - loss: 0.3409 - accuracy: 0.8571 - val_loss: 0.5429 - val_accuracy: 0.7886\n",
      "Epoch 28/50\n",
      "27/27 [==============================] - 0s 3ms/step - loss: 0.2899 - accuracy: 0.8722 - val_loss: 0.5769 - val_accuracy: 0.7886\n",
      "Epoch 29/50\n",
      "27/27 [==============================] - 0s 3ms/step - loss: 0.3344 - accuracy: 0.8560 - val_loss: 0.5460 - val_accuracy: 0.7696\n",
      "Epoch 30/50\n",
      "27/27 [==============================] - 0s 3ms/step - loss: 0.3290 - accuracy: 0.8757 - val_loss: 0.5547 - val_accuracy: 0.8022\n",
      "Epoch 31/50\n",
      "27/27 [==============================] - 0s 3ms/step - loss: 0.3158 - accuracy: 0.8641 - val_loss: 0.5835 - val_accuracy: 0.7669\n",
      "Epoch 32/50\n",
      "27/27 [==============================] - 0s 3ms/step - loss: 0.3182 - accuracy: 0.8664 - val_loss: 0.5531 - val_accuracy: 0.7940\n",
      "Epoch 33/50\n",
      "27/27 [==============================] - 0s 3ms/step - loss: 0.2759 - accuracy: 0.8815 - val_loss: 0.5962 - val_accuracy: 0.7507\n",
      "Epoch 34/50\n",
      "27/27 [==============================] - 0s 3ms/step - loss: 0.3338 - accuracy: 0.8641 - val_loss: 0.5647 - val_accuracy: 0.7832\n",
      "Epoch 35/50\n",
      "27/27 [==============================] - 0s 3ms/step - loss: 0.2942 - accuracy: 0.8734 - val_loss: 0.5738 - val_accuracy: 0.7886\n",
      "Epoch 36/50\n",
      "27/27 [==============================] - 0s 3ms/step - loss: 0.2837 - accuracy: 0.8850 - val_loss: 0.5863 - val_accuracy: 0.7778\n",
      "Epoch 37/50\n",
      "27/27 [==============================] - 0s 3ms/step - loss: 0.2771 - accuracy: 0.8850 - val_loss: 0.5863 - val_accuracy: 0.7507\n",
      "Epoch 38/50\n",
      "27/27 [==============================] - 0s 3ms/step - loss: 0.2992 - accuracy: 0.8769 - val_loss: 0.6061 - val_accuracy: 0.7886\n",
      "Epoch 39/50\n",
      "27/27 [==============================] - 0s 3ms/step - loss: 0.3273 - accuracy: 0.8804 - val_loss: 0.6036 - val_accuracy: 0.7751\n",
      "Epoch 40/50\n",
      "27/27 [==============================] - 0s 3ms/step - loss: 0.3054 - accuracy: 0.8734 - val_loss: 0.5741 - val_accuracy: 0.7832\n",
      "Epoch 41/50\n",
      "27/27 [==============================] - 0s 3ms/step - loss: 0.2634 - accuracy: 0.9013 - val_loss: 0.6220 - val_accuracy: 0.7832\n",
      "Epoch 42/50\n",
      "27/27 [==============================] - 0s 3ms/step - loss: 0.3120 - accuracy: 0.8722 - val_loss: 0.6751 - val_accuracy: 0.7507\n",
      "Epoch 43/50\n",
      "27/27 [==============================] - 0s 3ms/step - loss: 0.2879 - accuracy: 0.8804 - val_loss: 0.6131 - val_accuracy: 0.7805\n",
      "Epoch 44/50\n",
      "27/27 [==============================] - 0s 3ms/step - loss: 0.2633 - accuracy: 0.8931 - val_loss: 0.6109 - val_accuracy: 0.7859\n",
      "Epoch 45/50\n",
      "27/27 [==============================] - 0s 3ms/step - loss: 0.2977 - accuracy: 0.8769 - val_loss: 0.6471 - val_accuracy: 0.7832\n",
      "Epoch 46/50\n",
      "27/27 [==============================] - 0s 3ms/step - loss: 0.2972 - accuracy: 0.8769 - val_loss: 0.5949 - val_accuracy: 0.7751\n",
      "Epoch 47/50\n",
      "27/27 [==============================] - 0s 3ms/step - loss: 0.2620 - accuracy: 0.8897 - val_loss: 0.7375 - val_accuracy: 0.7425\n",
      "Epoch 48/50\n",
      "27/27 [==============================] - 0s 3ms/step - loss: 0.2949 - accuracy: 0.8792 - val_loss: 0.6485 - val_accuracy: 0.7913\n",
      "Epoch 49/50\n",
      "27/27 [==============================] - 0s 3ms/step - loss: 0.2536 - accuracy: 0.8885 - val_loss: 0.6628 - val_accuracy: 0.7371\n",
      "Epoch 50/50\n",
      "27/27 [==============================] - 0s 3ms/step - loss: 0.2497 - accuracy: 0.8943 - val_loss: 0.6514 - val_accuracy: 0.7805\n"
     ]
    }
   ],
   "source": [
    "np.random.seed(42)\n",
    "tf.random.set_seed(42)\n",
    "\n",
    "optimizer = tf.keras.optimizers.Nadam(learning_rate=0.01)\n",
    "\n",
    "# If multiclass, use \"sparse_categorical_crossentropy\" as the loss function\n",
    "model.compile(loss=\"binary_crossentropy\", optimizer=optimizer, metrics=['accuracy'])\n",
    "\n",
    "\n",
    "history = model.fit(X_train, y_train, epochs=50,\n",
    "                    validation_data=(X_test, y_test))"
   ]
  },
  {
   "cell_type": "code",
   "execution_count": 16,
   "metadata": {},
   "outputs": [
    {
     "data": {
      "text/plain": [
       "[0.6514373421669006, 0.7804877758026123]"
      ]
     },
     "execution_count": 16,
     "metadata": {},
     "output_type": "execute_result"
    }
   ],
   "source": [
    "# evaluate the model\n",
    "\n",
    "scores = model.evaluate(X_test, y_test, verbose=0)\n",
    "\n",
    "scores\n",
    "\n",
    "# In results, first is loss, second is accuracy"
   ]
  },
  {
   "cell_type": "code",
   "execution_count": 17,
   "metadata": {},
   "outputs": [
    {
     "name": "stdout",
     "output_type": "stream",
     "text": [
      "loss: 0.65\n",
      "accuracy: 78.05%\n"
     ]
    }
   ],
   "source": [
    "# extract the accuracy from model.evaluate\n",
    "\n",
    "print(\"%s: %.2f\" % (model.metrics_names[0], scores[0]))\n",
    "print(\"%s: %.2f%%\" % (model.metrics_names[1], scores[1]*100))\n"
   ]
  },
  {
   "cell_type": "markdown",
   "metadata": {},
   "source": [
    "# Simple RNN with one layer"
   ]
  },
  {
   "cell_type": "code",
   "execution_count": 18,
   "metadata": {},
   "outputs": [],
   "source": [
    "n_steps = 36\n",
    "n_inputs = 1\n",
    "\n",
    "model = keras.models.Sequential([\n",
    "    keras.layers.SimpleRNN(32, input_shape=[n_steps, n_inputs]),\n",
    "    keras.layers.Dense(1, activation='sigmoid')\n",
    "])"
   ]
  },
  {
   "cell_type": "code",
   "execution_count": 19,
   "metadata": {
    "scrolled": true
   },
   "outputs": [
    {
     "name": "stdout",
     "output_type": "stream",
     "text": [
      "Epoch 1/50\n",
      "27/27 [==============================] - 2s 20ms/step - loss: 0.4407 - accuracy: 0.8002 - val_loss: 0.3970 - val_accuracy: 0.8266\n",
      "Epoch 2/50\n",
      "27/27 [==============================] - 0s 8ms/step - loss: 0.4173 - accuracy: 0.8002 - val_loss: 0.3955 - val_accuracy: 0.8130\n",
      "Epoch 3/50\n",
      "27/27 [==============================] - 0s 8ms/step - loss: 0.4127 - accuracy: 0.8060 - val_loss: 0.4008 - val_accuracy: 0.8103\n",
      "Epoch 4/50\n",
      "27/27 [==============================] - 0s 8ms/step - loss: 0.4033 - accuracy: 0.7886 - val_loss: 0.3843 - val_accuracy: 0.8320\n",
      "Epoch 5/50\n",
      "27/27 [==============================] - 0s 8ms/step - loss: 0.3901 - accuracy: 0.8188 - val_loss: 0.4112 - val_accuracy: 0.8076\n",
      "Epoch 6/50\n",
      "27/27 [==============================] - 0s 8ms/step - loss: 0.3890 - accuracy: 0.8026 - val_loss: 0.4128 - val_accuracy: 0.8022\n",
      "Epoch 7/50\n",
      "27/27 [==============================] - 0s 8ms/step - loss: 0.3841 - accuracy: 0.8200 - val_loss: 0.3884 - val_accuracy: 0.8266\n",
      "Epoch 8/50\n",
      "27/27 [==============================] - 0s 8ms/step - loss: 0.3810 - accuracy: 0.8281 - val_loss: 0.4072 - val_accuracy: 0.8022\n",
      "Epoch 9/50\n",
      "27/27 [==============================] - 0s 9ms/step - loss: 0.3696 - accuracy: 0.8316 - val_loss: 0.4096 - val_accuracy: 0.7995\n",
      "Epoch 9: early stopping\n"
     ]
    }
   ],
   "source": [
    "from tensorflow.keras.callbacks import EarlyStopping\n",
    "\n",
    "optimizer = tf.keras.optimizers.Nadam(learning_rate=0.01)\n",
    "\n",
    "# If multiclass, use \"sparse_categorical_crossentropy\" as the loss function\n",
    "model.compile(loss=\"binary_crossentropy\", optimizer=optimizer, metrics=['accuracy'])\n",
    "\n",
    "early_stop = EarlyStopping(monitor='val_loss', patience=5, verbose=1, mode='auto')\n",
    "\n",
    "history = model.fit(\n",
    "    X_train, \n",
    "    y_train, \n",
    "    epochs=50,\n",
    "    validation_data=(X_test, y_test), \n",
    "    callbacks=[early_stop]\n",
    ")"
   ]
  },
  {
   "cell_type": "code",
   "execution_count": 20,
   "metadata": {},
   "outputs": [
    {
     "data": {
      "text/plain": [
       "[0.40958625078201294, 0.7994579672813416]"
      ]
     },
     "execution_count": 20,
     "metadata": {},
     "output_type": "execute_result"
    }
   ],
   "source": [
    "# evaluate the model\n",
    "scores = model.evaluate(X_test, y_test, verbose=0)\n",
    "\n",
    "scores\n",
    "\n",
    "# In results, first is loss, second is accuracy"
   ]
  },
  {
   "cell_type": "code",
   "execution_count": 21,
   "metadata": {},
   "outputs": [
    {
     "name": "stdout",
     "output_type": "stream",
     "text": [
      "loss: 0.41\n",
      "accuracy: 79.95\n"
     ]
    }
   ],
   "source": [
    "# extract the accuracy from model.evaluate\n",
    "print(f\"{model.metrics_names[0]:s}: {scores[0]:.2f}\")\n",
    "print(f\"{model.metrics_names[1]:s}: {scores[1]*100:.2f}\")"
   ]
  },
  {
   "cell_type": "code",
   "execution_count": 22,
   "metadata": {},
   "outputs": [
    {
     "name": "stdout",
     "output_type": "stream",
     "text": [
      "12/12 [==============================] - 0s 3ms/step\n"
     ]
    }
   ],
   "source": [
    "# Predictions are probabilities.\n",
    "\n",
    "predictions = model.predict(X_test)"
   ]
  },
  {
   "cell_type": "code",
   "execution_count": 23,
   "metadata": {},
   "outputs": [
    {
     "data": {
      "text/plain": [
       "array([[0.],\n",
       "       [1.],\n",
       "       [0.],\n",
       "       [0.],\n",
       "       [1.],\n",
       "       [1.],\n",
       "       [1.],\n",
       "       [1.],\n",
       "       [0.],\n",
       "       [1.]], dtype=float32)"
      ]
     },
     "execution_count": 23,
     "metadata": {},
     "output_type": "execute_result"
    }
   ],
   "source": [
    "# Rounding the probabilities determines 1 or 0\n",
    "\n",
    "np.round(predictions)[:10] # show first 10 predictions"
   ]
  },
  {
   "cell_type": "code",
   "execution_count": 24,
   "metadata": {},
   "outputs": [
    {
     "data": {
      "text/plain": [
       "array([[125,  42],\n",
       "       [ 32, 170]], dtype=int64)"
      ]
     },
     "execution_count": 24,
     "metadata": {},
     "output_type": "execute_result"
    }
   ],
   "source": [
    "from sklearn.metrics import confusion_matrix\n",
    "\n",
    "confusion_matrix(y_test, np.round(predictions))"
   ]
  },
  {
   "cell_type": "markdown",
   "metadata": {},
   "source": [
    "# Deep RNN\n",
    "\n",
    "**Be careful: when stacking RNN layers, you have to set \"return_sequences\" to True. This enables the layer to send a \"sequence\" of values to the next layer -- jut like how it uses a sequence of values for training.**\n",
    "\n",
    "**Since the last layer is DENSE, it can't take sequence data. Therefore, you CANNOT return sequences from the previous layer. So, remove** `return_sequences` **from previous layer.**"
   ]
  },
  {
   "cell_type": "code",
   "execution_count": 25,
   "metadata": {},
   "outputs": [],
   "source": [
    "n_steps = 36\n",
    "n_inputs = 1\n",
    "\n",
    "model = keras.models.Sequential([\n",
    "    keras.layers.SimpleRNN(32, return_sequences=True, input_shape=[n_steps, n_inputs] ),\n",
    "    keras.layers.SimpleRNN(32, return_sequences=True),\n",
    "    keras.layers.SimpleRNN(32), \n",
    "    keras.layers.Dense(1, activation='sigmoid')\n",
    "])"
   ]
  },
  {
   "cell_type": "code",
   "execution_count": 26,
   "metadata": {
    "scrolled": true
   },
   "outputs": [
    {
     "name": "stdout",
     "output_type": "stream",
     "text": [
      "Epoch 1/20\n",
      "27/27 [==============================] - 4s 39ms/step - loss: 0.4706 - accuracy: 0.7816 - val_loss: 0.4040 - val_accuracy: 0.8184\n",
      "Epoch 2/20\n",
      "27/27 [==============================] - 1s 21ms/step - loss: 0.4325 - accuracy: 0.7863 - val_loss: 0.3998 - val_accuracy: 0.8049\n",
      "Epoch 3/20\n",
      "27/27 [==============================] - 1s 20ms/step - loss: 0.4251 - accuracy: 0.7898 - val_loss: 0.4179 - val_accuracy: 0.8157\n",
      "Epoch 4/20\n",
      "27/27 [==============================] - 1s 22ms/step - loss: 0.4044 - accuracy: 0.8026 - val_loss: 0.3896 - val_accuracy: 0.8211\n",
      "Epoch 5/20\n",
      "27/27 [==============================] - 1s 22ms/step - loss: 0.3907 - accuracy: 0.8235 - val_loss: 0.4118 - val_accuracy: 0.7886\n",
      "Epoch 6/20\n",
      "27/27 [==============================] - 1s 32ms/step - loss: 0.3870 - accuracy: 0.8107 - val_loss: 0.4303 - val_accuracy: 0.7859\n",
      "Epoch 7/20\n",
      "27/27 [==============================] - 1s 26ms/step - loss: 0.3916 - accuracy: 0.8037 - val_loss: 0.4075 - val_accuracy: 0.8266\n",
      "Epoch 8/20\n",
      "27/27 [==============================] - 1s 23ms/step - loss: 0.3997 - accuracy: 0.8014 - val_loss: 0.3993 - val_accuracy: 0.8211\n",
      "Epoch 9/20\n",
      "27/27 [==============================] - 1s 27ms/step - loss: 0.3695 - accuracy: 0.8177 - val_loss: 0.4339 - val_accuracy: 0.8103\n",
      "Epoch 9: early stopping\n"
     ]
    }
   ],
   "source": [
    "np.random.seed(42)\n",
    "tf.random.set_seed(42)\n",
    "\n",
    "optimizer = keras.optimizers.Nadam(learning_rate=0.01)\n",
    "\n",
    "model.compile(loss=\"binary_crossentropy\", optimizer=optimizer, metrics=['accuracy'])\n",
    "\n",
    "history = model.fit(\n",
    "    X_train, \n",
    "    y_train, \n",
    "    epochs=20,\n",
    "    validation_data = (X_test, y_test), \n",
    "    callbacks=[early_stop])  # we defined this early_stop callback function earlier"
   ]
  },
  {
   "cell_type": "code",
   "execution_count": 27,
   "metadata": {},
   "outputs": [
    {
     "data": {
      "text/plain": [
       "[0.433872789144516, 0.8102980852127075]"
      ]
     },
     "execution_count": 27,
     "metadata": {},
     "output_type": "execute_result"
    }
   ],
   "source": [
    "# evaluate the model\n",
    "\n",
    "scores = model.evaluate(X_test, y_test, verbose=0)\n",
    "\n",
    "scores\n",
    "# In results, first is loss, second is accuracy"
   ]
  },
  {
   "cell_type": "code",
   "execution_count": 28,
   "metadata": {
    "scrolled": true
   },
   "outputs": [
    {
     "name": "stdout",
     "output_type": "stream",
     "text": [
      "loss: 0.43\n",
      "accuracy: 81.03\n"
     ]
    }
   ],
   "source": [
    "# extract the accuracy from model.evaluate\n",
    "print(f\"{model.metrics_names[0]:s}: {scores[0]:.2f}\")\n",
    "print(f\"{model.metrics_names[1]:s}: {scores[1]*100:.2f}\")"
   ]
  },
  {
   "cell_type": "markdown",
   "metadata": {},
   "source": [
    "# LSTM with one layer"
   ]
  },
  {
   "cell_type": "code",
   "execution_count": 29,
   "metadata": {},
   "outputs": [],
   "source": [
    "n_steps = 36\n",
    "n_inputs = 1\n",
    "\n",
    "model = keras.models.Sequential([\n",
    "    keras.layers.LSTM(32, input_shape=[n_steps, n_inputs]),\n",
    "    keras.layers.Dense(1, activation='sigmoid')\n",
    "])"
   ]
  },
  {
   "cell_type": "code",
   "execution_count": 30,
   "metadata": {
    "scrolled": true
   },
   "outputs": [
    {
     "name": "stdout",
     "output_type": "stream",
     "text": [
      "Epoch 1/20\n",
      "27/27 [==============================] - 3s 36ms/step - loss: 0.4703 - accuracy: 0.7875 - val_loss: 0.3955 - val_accuracy: 0.8238\n",
      "Epoch 2/20\n",
      "27/27 [==============================] - 0s 13ms/step - loss: 0.4203 - accuracy: 0.8026 - val_loss: 0.4021 - val_accuracy: 0.8238\n",
      "Epoch 3/20\n",
      "27/27 [==============================] - 0s 14ms/step - loss: 0.4141 - accuracy: 0.7979 - val_loss: 0.3986 - val_accuracy: 0.8211\n",
      "Epoch 4/20\n",
      "27/27 [==============================] - 0s 14ms/step - loss: 0.4089 - accuracy: 0.8084 - val_loss: 0.3889 - val_accuracy: 0.8211\n",
      "Epoch 5/20\n",
      "27/27 [==============================] - 0s 15ms/step - loss: 0.4063 - accuracy: 0.8095 - val_loss: 0.3995 - val_accuracy: 0.8211\n",
      "Epoch 6/20\n",
      "27/27 [==============================] - 0s 15ms/step - loss: 0.4013 - accuracy: 0.8072 - val_loss: 0.4113 - val_accuracy: 0.8157\n",
      "Epoch 7/20\n",
      "27/27 [==============================] - 0s 14ms/step - loss: 0.3975 - accuracy: 0.8002 - val_loss: 0.4062 - val_accuracy: 0.8293\n",
      "Epoch 8/20\n",
      "27/27 [==============================] - 0s 15ms/step - loss: 0.3971 - accuracy: 0.7979 - val_loss: 0.4173 - val_accuracy: 0.8022\n",
      "Epoch 9/20\n",
      "27/27 [==============================] - 0s 15ms/step - loss: 0.3875 - accuracy: 0.8095 - val_loss: 0.4311 - val_accuracy: 0.7940\n",
      "Epoch 9: early stopping\n"
     ]
    }
   ],
   "source": [
    "np.random.seed(42)\n",
    "tf.random.set_seed(42)\n",
    "\n",
    "optimizer = keras.optimizers.Nadam(learning_rate=0.01)\n",
    "\n",
    "model.compile(loss=\"binary_crossentropy\", optimizer=optimizer, metrics=['accuracy'])\n",
    "\n",
    "history = model.fit(\n",
    "    X_train, \n",
    "    y_train, \n",
    "    epochs=20,\n",
    "    validation_data=(X_test, y_test),\n",
    "    callbacks=[early_stop]) # we defined this early_stop callback function earlier"
   ]
  },
  {
   "cell_type": "code",
   "execution_count": 31,
   "metadata": {},
   "outputs": [
    {
     "data": {
      "text/plain": [
       "[0.43111592531204224, 0.794037938117981]"
      ]
     },
     "execution_count": 31,
     "metadata": {},
     "output_type": "execute_result"
    }
   ],
   "source": [
    "# evaluate the model\n",
    "\n",
    "scores = model.evaluate(X_test, y_test, verbose=0)\n",
    "scores\n",
    "\n",
    "# In results, first is loss, second is accuracy"
   ]
  },
  {
   "cell_type": "code",
   "execution_count": 32,
   "metadata": {
    "scrolled": true
   },
   "outputs": [
    {
     "name": "stdout",
     "output_type": "stream",
     "text": [
      "loss: 0.43\n",
      "accuracy: 79.40\n"
     ]
    }
   ],
   "source": [
    "# extract the accuracy from model.evaluate\n",
    "print(f\"{model.metrics_names[0]:s}: {scores[0]:.2f}\")\n",
    "print(f\"{model.metrics_names[1]:s}: {scores[1]*100:.2f}\")"
   ]
  },
  {
   "cell_type": "markdown",
   "metadata": {},
   "source": [
    "# LSTM with more layers"
   ]
  },
  {
   "cell_type": "code",
   "execution_count": 33,
   "metadata": {},
   "outputs": [],
   "source": [
    "n_steps = 36\n",
    "n_inputs = 1\n",
    "\n",
    "model = keras.models.Sequential([\n",
    "    keras.layers.LSTM(32, return_sequences=True, input_shape=[n_steps, n_inputs]),\n",
    "    keras.layers.LSTM(32, return_sequences=True),\n",
    "    keras.layers.LSTM(32),\n",
    "    keras.layers.Dense(1, activation='sigmoid')\n",
    "])"
   ]
  },
  {
   "cell_type": "code",
   "execution_count": 34,
   "metadata": {
    "scrolled": true
   },
   "outputs": [
    {
     "name": "stdout",
     "output_type": "stream",
     "text": [
      "Epoch 1/20\n",
      "27/27 [==============================] - 9s 92ms/step - loss: 0.5189 - accuracy: 0.7375 - val_loss: 0.4127 - val_accuracy: 0.8211\n",
      "Epoch 2/20\n",
      "27/27 [==============================] - 1s 41ms/step - loss: 0.4444 - accuracy: 0.7956 - val_loss: 0.4188 - val_accuracy: 0.8103\n",
      "Epoch 3/20\n",
      "27/27 [==============================] - 1s 41ms/step - loss: 0.4257 - accuracy: 0.7840 - val_loss: 0.4101 - val_accuracy: 0.8184\n",
      "Epoch 4/20\n",
      "27/27 [==============================] - 1s 41ms/step - loss: 0.4193 - accuracy: 0.7886 - val_loss: 0.3975 - val_accuracy: 0.8238\n",
      "Epoch 5/20\n",
      "27/27 [==============================] - 1s 42ms/step - loss: 0.4138 - accuracy: 0.8037 - val_loss: 0.4131 - val_accuracy: 0.8076\n",
      "Epoch 6/20\n",
      "27/27 [==============================] - 1s 42ms/step - loss: 0.4097 - accuracy: 0.8060 - val_loss: 0.4039 - val_accuracy: 0.8266\n",
      "Epoch 7/20\n",
      "27/27 [==============================] - 1s 42ms/step - loss: 0.4085 - accuracy: 0.7933 - val_loss: 0.4082 - val_accuracy: 0.8266\n",
      "Epoch 8/20\n",
      "27/27 [==============================] - 1s 42ms/step - loss: 0.4087 - accuracy: 0.7828 - val_loss: 0.4461 - val_accuracy: 0.7940\n",
      "Epoch 9/20\n",
      "27/27 [==============================] - 1s 43ms/step - loss: 0.3902 - accuracy: 0.7991 - val_loss: 0.4726 - val_accuracy: 0.7859\n",
      "Epoch 9: early stopping\n"
     ]
    }
   ],
   "source": [
    "np.random.seed(42)\n",
    "tf.random.set_seed(42)\n",
    "\n",
    "optimizer = keras.optimizers.Nadam(learning_rate=0.01)\n",
    "\n",
    "model.compile(loss=\"binary_crossentropy\", optimizer=optimizer, metrics=['accuracy'])\n",
    "\n",
    "history = model.fit(\n",
    "    X_train, \n",
    "    y_train, \n",
    "    epochs=20,\n",
    "    validation_data=(X_test, y_test), \n",
    "    callbacks=[early_stop] # we defined this early_stop callback function earlier\n",
    ")"
   ]
  },
  {
   "cell_type": "code",
   "execution_count": 35,
   "metadata": {},
   "outputs": [
    {
     "data": {
      "text/plain": [
       "[0.4725901186466217, 0.7859078645706177]"
      ]
     },
     "execution_count": 35,
     "metadata": {},
     "output_type": "execute_result"
    }
   ],
   "source": [
    "# evaluate the model\n",
    "\n",
    "scores = model.evaluate(X_test, y_test, verbose=0)\n",
    "scores\n",
    "\n",
    "# In results, first is loss, second is accuracy"
   ]
  },
  {
   "cell_type": "code",
   "execution_count": 36,
   "metadata": {
    "scrolled": true
   },
   "outputs": [
    {
     "name": "stdout",
     "output_type": "stream",
     "text": [
      "loss: 0.47\n",
      "accuracy: 78.59%\n"
     ]
    }
   ],
   "source": [
    "# extract the accuracy from model.evaluate\n",
    "\n",
    "print(\"%s: %.2f\" % (model.metrics_names[0], scores[0]))\n",
    "print(\"%s: %.2f%%\" % (model.metrics_names[1], scores[1]*100))\n"
   ]
  },
  {
   "cell_type": "markdown",
   "metadata": {},
   "source": [
    "# GRU with one layer"
   ]
  },
  {
   "cell_type": "code",
   "execution_count": 37,
   "metadata": {},
   "outputs": [],
   "source": [
    "n_steps = 36\n",
    "n_inputs = 1\n",
    "\n",
    "model = keras.models.Sequential([\n",
    "    keras.layers.GRU(32, input_shape=[n_steps, n_inputs]),\n",
    "    keras.layers.Dense(1, activation='sigmoid')\n",
    "])"
   ]
  },
  {
   "cell_type": "code",
   "execution_count": 38,
   "metadata": {
    "scrolled": true
   },
   "outputs": [
    {
     "name": "stdout",
     "output_type": "stream",
     "text": [
      "Epoch 1/20\n",
      "27/27 [==============================] - 4s 41ms/step - loss: 0.5236 - accuracy: 0.7375 - val_loss: 0.3912 - val_accuracy: 0.8184\n",
      "Epoch 2/20\n",
      "27/27 [==============================] - 0s 17ms/step - loss: 0.4159 - accuracy: 0.7909 - val_loss: 0.3947 - val_accuracy: 0.8184\n",
      "Epoch 3/20\n",
      "27/27 [==============================] - 0s 18ms/step - loss: 0.4134 - accuracy: 0.7979 - val_loss: 0.3898 - val_accuracy: 0.8238\n",
      "Epoch 4/20\n",
      "27/27 [==============================] - 0s 18ms/step - loss: 0.4094 - accuracy: 0.7967 - val_loss: 0.3844 - val_accuracy: 0.8347\n",
      "Epoch 5/20\n",
      "27/27 [==============================] - 0s 18ms/step - loss: 0.4072 - accuracy: 0.7967 - val_loss: 0.3944 - val_accuracy: 0.8184\n",
      "Epoch 6/20\n",
      "27/27 [==============================] - 0s 18ms/step - loss: 0.4049 - accuracy: 0.8060 - val_loss: 0.4068 - val_accuracy: 0.8266\n",
      "Epoch 7/20\n",
      "27/27 [==============================] - 0s 18ms/step - loss: 0.4010 - accuracy: 0.8002 - val_loss: 0.4034 - val_accuracy: 0.8184\n",
      "Epoch 8/20\n",
      "27/27 [==============================] - 1s 23ms/step - loss: 0.4019 - accuracy: 0.8072 - val_loss: 0.4152 - val_accuracy: 0.8130\n",
      "Epoch 9/20\n",
      "27/27 [==============================] - 0s 18ms/step - loss: 0.3954 - accuracy: 0.8014 - val_loss: 0.4185 - val_accuracy: 0.8293\n",
      "Epoch 9: early stopping\n"
     ]
    }
   ],
   "source": [
    "np.random.seed(42)\n",
    "tf.random.set_seed(42)\n",
    "\n",
    "optimizer = keras.optimizers.Nadam(learning_rate=0.01)\n",
    "\n",
    "model.compile(loss=\"binary_crossentropy\", optimizer=optimizer, metrics=['accuracy'])\n",
    "\n",
    "history = model.fit(\n",
    "    X_train, \n",
    "    y_train, \n",
    "    epochs=20,\n",
    "    validation_data=(X_test, y_test),\n",
    "    callbacks=[early_stop] # we defined this early_stop callback function earlier\n",
    ")"
   ]
  },
  {
   "cell_type": "code",
   "execution_count": 39,
   "metadata": {},
   "outputs": [
    {
     "data": {
      "text/plain": [
       "[0.4184522032737732, 0.8292682766914368]"
      ]
     },
     "execution_count": 39,
     "metadata": {},
     "output_type": "execute_result"
    }
   ],
   "source": [
    "# evaluate the model\n",
    "\n",
    "scores = model.evaluate(X_test, y_test, verbose=0)\n",
    "scores\n",
    "\n",
    "# In results, first is loss, second is accuracy"
   ]
  },
  {
   "cell_type": "code",
   "execution_count": 40,
   "metadata": {},
   "outputs": [
    {
     "name": "stdout",
     "output_type": "stream",
     "text": [
      "loss: 0.42\n",
      "accuracy: 82.93\n"
     ]
    }
   ],
   "source": [
    "# extract the accuracy from model.evaluate\n",
    "print(f\"{model.metrics_names[0]:s}: {scores[0]:.2f}\")\n",
    "print(f\"{model.metrics_names[1]:s}: {scores[1]*100:.2f}\")"
   ]
  },
  {
   "cell_type": "markdown",
   "metadata": {},
   "source": [
    "# GRU with more layers"
   ]
  },
  {
   "cell_type": "code",
   "execution_count": 41,
   "metadata": {},
   "outputs": [],
   "source": [
    "n_steps = 36\n",
    "n_inputs = 1\n",
    "\n",
    "model = keras.models.Sequential([\n",
    "    keras.layers.GRU(32, return_sequences=True, input_shape=[n_steps, n_inputs]),\n",
    "    keras.layers.GRU(32, return_sequences=True),\n",
    "    keras.layers.GRU(32),\n",
    "    keras.layers.Dense(1, activation='sigmoid')\n",
    "])"
   ]
  },
  {
   "cell_type": "code",
   "execution_count": 42,
   "metadata": {
    "scrolled": true
   },
   "outputs": [
    {
     "name": "stdout",
     "output_type": "stream",
     "text": [
      "Epoch 1/20\n",
      "27/27 [==============================] - 9s 92ms/step - loss: 0.4614 - accuracy: 0.7758 - val_loss: 0.3945 - val_accuracy: 0.8157\n",
      "Epoch 2/20\n",
      "27/27 [==============================] - 1s 48ms/step - loss: 0.4269 - accuracy: 0.7875 - val_loss: 0.4024 - val_accuracy: 0.8184\n",
      "Epoch 3/20\n",
      "27/27 [==============================] - 1s 49ms/step - loss: 0.4221 - accuracy: 0.7979 - val_loss: 0.4068 - val_accuracy: 0.8211\n",
      "Epoch 4/20\n",
      "27/27 [==============================] - 1s 48ms/step - loss: 0.4207 - accuracy: 0.7875 - val_loss: 0.3850 - val_accuracy: 0.8238\n",
      "Epoch 5/20\n",
      "27/27 [==============================] - 1s 49ms/step - loss: 0.4223 - accuracy: 0.8026 - val_loss: 0.4015 - val_accuracy: 0.8130\n",
      "Epoch 6/20\n",
      "27/27 [==============================] - 1s 50ms/step - loss: 0.4151 - accuracy: 0.7921 - val_loss: 0.4103 - val_accuracy: 0.8157\n",
      "Epoch 7/20\n",
      "27/27 [==============================] - 1s 50ms/step - loss: 0.4070 - accuracy: 0.7898 - val_loss: 0.4046 - val_accuracy: 0.8266\n",
      "Epoch 8/20\n",
      "27/27 [==============================] - 1s 50ms/step - loss: 0.4137 - accuracy: 0.7851 - val_loss: 0.4218 - val_accuracy: 0.8266\n",
      "Epoch 9/20\n",
      "27/27 [==============================] - 1s 51ms/step - loss: 0.4069 - accuracy: 0.7840 - val_loss: 0.4071 - val_accuracy: 0.8266\n",
      "Epoch 9: early stopping\n"
     ]
    }
   ],
   "source": [
    "np.random.seed(42)\n",
    "tf.random.set_seed(42)\n",
    "\n",
    "optimizer = keras.optimizers.Nadam(learning_rate=0.01)\n",
    "\n",
    "model.compile(loss=\"binary_crossentropy\", optimizer=optimizer, metrics=['accuracy'])\n",
    "\n",
    "history = model.fit(\n",
    "    X_train, \n",
    "    y_train, \n",
    "    epochs=20,\n",
    "    validation_data=(X_test, y_test), \n",
    "    callbacks=[early_stop] # we defined this early_stop callback function earlier\n",
    ")"
   ]
  },
  {
   "cell_type": "code",
   "execution_count": 43,
   "metadata": {},
   "outputs": [
    {
     "data": {
      "text/plain": [
       "[0.40711504220962524, 0.8265582919120789]"
      ]
     },
     "execution_count": 43,
     "metadata": {},
     "output_type": "execute_result"
    }
   ],
   "source": [
    "# evaluate the model\n",
    "\n",
    "scores = model.evaluate(X_test, y_test, verbose=0)\n",
    "scores\n",
    "\n",
    "# In results, first is loss, second is accuracy"
   ]
  },
  {
   "cell_type": "code",
   "execution_count": 44,
   "metadata": {},
   "outputs": [
    {
     "name": "stdout",
     "output_type": "stream",
     "text": [
      "loss: 0.41\n",
      "accuracy: 82.66%\n"
     ]
    }
   ],
   "source": [
    "# extract the accuracy from model.evaluate\n",
    "\n",
    "print(\"%s: %.2f\" % (model.metrics_names[0], scores[0]))\n",
    "print(\"%s: %.2f%%\" % (model.metrics_names[1], scores[1]*100))\n"
   ]
  },
  {
   "cell_type": "markdown",
   "metadata": {},
   "source": [
    "# Conv1D"
   ]
  },
  {
   "cell_type": "code",
   "execution_count": 45,
   "metadata": {},
   "outputs": [
    {
     "name": "stdout",
     "output_type": "stream",
     "text": [
      "Model: \"sequential_7\"\n",
      "_________________________________________________________________\n",
      " Layer (type)                Output Shape              Param #   \n",
      "=================================================================\n",
      " conv1d (Conv1D)             (None, 17, 10)            40        \n",
      "                                                                 \n",
      " conv1d_1 (Conv1D)           (None, 13, 20)            620       \n",
      "                                                                 \n",
      " lstm_4 (LSTM)               (None, 13, 32)            6784      \n",
      "                                                                 \n",
      " lstm_5 (LSTM)               (None, 32)                8320      \n",
      "                                                                 \n",
      " dense_8 (Dense)             (None, 1)                 33        \n",
      "                                                                 \n",
      "=================================================================\n",
      "Total params: 15,797\n",
      "Trainable params: 15,797\n",
      "Non-trainable params: 0\n",
      "_________________________________________________________________\n"
     ]
    }
   ],
   "source": [
    "n_steps = 36\n",
    "n_inputs = 1\n",
    "\n",
    "model = keras.models.Sequential([\n",
    "    keras.layers.Conv1D(filters=10, kernel_size=3, strides=2, padding=\"valid\", input_shape=[n_steps, n_inputs]),\n",
    "    keras.layers.Conv1D(filters=20, kernel_size=3, strides=1, padding=\"valid\", dilation_rate=2),\n",
    "    keras.layers.LSTM(32, return_sequences=True),\n",
    "    keras.layers.LSTM(32),\n",
    "    keras.layers.Dense(1, activation='sigmoid')\n",
    "])\n",
    "\n",
    "model.summary()"
   ]
  },
  {
   "cell_type": "code",
   "execution_count": 46,
   "metadata": {
    "scrolled": true
   },
   "outputs": [
    {
     "name": "stdout",
     "output_type": "stream",
     "text": [
      "Epoch 1/20\n",
      "27/27 [==============================] - 7s 86ms/step - loss: 0.5212 - accuracy: 0.7410 - val_loss: 0.4179 - val_accuracy: 0.8184\n",
      "Epoch 2/20\n",
      "27/27 [==============================] - 2s 65ms/step - loss: 0.4519 - accuracy: 0.7933 - val_loss: 0.4261 - val_accuracy: 0.7913\n",
      "Epoch 3/20\n",
      "27/27 [==============================] - 2s 64ms/step - loss: 0.4378 - accuracy: 0.7944 - val_loss: 0.4213 - val_accuracy: 0.8076\n",
      "Epoch 4/20\n",
      "27/27 [==============================] - 2s 61ms/step - loss: 0.4325 - accuracy: 0.7875 - val_loss: 0.4223 - val_accuracy: 0.8130\n",
      "Epoch 5/20\n",
      "27/27 [==============================] - 2s 67ms/step - loss: 0.4301 - accuracy: 0.7979 - val_loss: 0.4426 - val_accuracy: 0.7805\n",
      "Epoch 6/20\n",
      "27/27 [==============================] - 2s 61ms/step - loss: 0.4122 - accuracy: 0.8026 - val_loss: 0.4565 - val_accuracy: 0.8049\n",
      "Epoch 6: early stopping\n"
     ]
    }
   ],
   "source": [
    "np.random.seed(42)\n",
    "tf.random.set_seed(42)\n",
    "\n",
    "optimizer = keras.optimizers.Nadam(learning_rate=0.01)\n",
    "\n",
    "model.compile(loss=\"binary_crossentropy\", optimizer=optimizer, metrics=['accuracy'])\n",
    "\n",
    "history = model.fit(\n",
    "    X_train, \n",
    "    y_train, \n",
    "    epochs=20,\n",
    "    validation_data=(X_test, y_test), \n",
    "    callbacks=[early_stop] # we defined this early_stop callback function earlier\n",
    ")"
   ]
  },
  {
   "cell_type": "code",
   "execution_count": 47,
   "metadata": {},
   "outputs": [
    {
     "data": {
      "text/plain": [
       "[0.45653003454208374, 0.8048780560493469]"
      ]
     },
     "execution_count": 47,
     "metadata": {},
     "output_type": "execute_result"
    }
   ],
   "source": [
    "# evaluate the model\n",
    "\n",
    "scores = model.evaluate(X_test, y_test, verbose=0)\n",
    "scores\n",
    "\n",
    "# In results, first is loss, second is accuracy"
   ]
  },
  {
   "cell_type": "code",
   "execution_count": 48,
   "metadata": {},
   "outputs": [
    {
     "name": "stdout",
     "output_type": "stream",
     "text": [
      "loss: 0.46\n",
      "accuracy: 80.49\n"
     ]
    }
   ],
   "source": [
    "# extract the accuracy from model.evaluate\n",
    "print(f\"{model.metrics_names[0]:s}: {scores[0]:.2f}\")\n",
    "print(f\"{model.metrics_names[1]:s}: {scores[1]*100:.2f}\")"
   ]
  }
 ],
 "metadata": {
  "kernelspec": {
   "display_name": "Python 3 (ipykernel)",
   "language": "python",
   "name": "python3"
  },
  "language_info": {
   "codemirror_mode": {
    "name": "ipython",
    "version": 3
   },
   "file_extension": ".py",
   "mimetype": "text/x-python",
   "name": "python",
   "nbconvert_exporter": "python",
   "pygments_lexer": "ipython3",
   "version": "3.9.16"
  },
  "nav_menu": {},
  "toc": {
   "base_numbering": 1,
   "nav_menu": {},
   "number_sections": false,
   "sideBar": true,
   "skip_h1_title": false,
   "title_cell": "Table of Contents",
   "title_sidebar": "Contents",
   "toc_cell": false,
   "toc_position": {
    "height": "calc(100% - 180px)",
    "left": "10px",
    "top": "150px",
    "width": "288px"
   },
   "toc_section_display": "block",
   "toc_window_display": true
  },
  "varInspector": {
   "cols": {
    "lenName": 16,
    "lenType": 16,
    "lenVar": 40
   },
   "kernels_config": {
    "python": {
     "delete_cmd_postfix": "",
     "delete_cmd_prefix": "del ",
     "library": "var_list.py",
     "varRefreshCmd": "print(var_dic_list())"
    },
    "r": {
     "delete_cmd_postfix": ") ",
     "delete_cmd_prefix": "rm(",
     "library": "var_list.r",
     "varRefreshCmd": "cat(var_dic_list()) "
    }
   },
   "types_to_exclude": [
    "module",
    "function",
    "builtin_function_or_method",
    "instance",
    "_Feature"
   ],
   "window_display": false
  }
 },
 "nbformat": 4,
 "nbformat_minor": 4
}
