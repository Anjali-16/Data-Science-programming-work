{
 "cells": [
  {
   "cell_type": "markdown",
   "id": "ed662987-84c7-46fb-9b5a-61a1693cfb6d",
   "metadata": {},
   "source": [
    "# ICP WEEK1\n",
    "# MEGHANJALI CHENNUPATI (U30308400)\n",
    "### This is the first inclass assignment"
   ]
  },
  {
   "cell_type": "markdown",
   "id": "3b9892ad-6164-4ba6-a4ff-1e00b523f8a8",
   "metadata": {},
   "source": [
    "## Introduction\n",
    "\n",
    "\n",
    "![](CHMG.jpg)\n",
    "\n",
    "Name: Meghanjali Chennupati\n",
    "\n",
    "Bio:\n",
    "      Myself Meghanjali. I am currently pursuing my masters degree in Business analytics and information systems from University of south florida.I have two years of experience as an assistant engineer in data science, data engineering and application devlopment  domains. I have completed my undergraduation in computer science and engineering from Bapatla engineering college in India. My hobies include Cooking, Listening music.\n"
   ]
  },
  {
   "cell_type": "code",
   "execution_count": 2,
   "id": "f50c418f-9dc9-4755-b203-8d8e400a7be4",
   "metadata": {},
   "outputs": [
    {
     "name": "stdout",
     "output_type": "stream",
     "text": [
      "Hello World\n"
     ]
    }
   ],
   "source": [
    "print(\"Hello World\")"
   ]
  }
 ],
 "metadata": {
  "kernelspec": {
   "display_name": "Python 3 (ipykernel)",
   "language": "python",
   "name": "python3"
  },
  "language_info": {
   "codemirror_mode": {
    "name": "ipython",
    "version": 3
   },
   "file_extension": ".py",
   "mimetype": "text/x-python",
   "name": "python",
   "nbconvert_exporter": "python",
   "pygments_lexer": "ipython3",
   "version": "3.9.12"
  }
 },
 "nbformat": 4,
 "nbformat_minor": 5
}
