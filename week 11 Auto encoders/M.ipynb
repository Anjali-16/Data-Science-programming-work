{
 "cells": [
  {
   "cell_type": "code",
   "execution_count": 2,
   "id": "24084abe-a810-45d6-ba71-c8ad5685ecd0",
   "metadata": {},
   "outputs": [
    {
     "name": "stdout",
     "output_type": "stream",
     "text": [
      "Collecting emnist\n",
      "  Downloading emnist-0.0-py3-none-any.whl (7.3 kB)\n",
      "Requirement already satisfied: tqdm in c:\\users\\meghanjali\\anaconda3\\envs\\tf\\lib\\site-packages (from emnist) (4.65.0)\n",
      "Requirement already satisfied: numpy in c:\\users\\meghanjali\\anaconda3\\envs\\tf\\lib\\site-packages (from emnist) (1.22.3)\n",
      "Requirement already satisfied: requests in c:\\users\\meghanjali\\anaconda3\\envs\\tf\\lib\\site-packages (from emnist) (2.28.2)\n",
      "Requirement already satisfied: idna<4,>=2.5 in c:\\users\\meghanjali\\anaconda3\\envs\\tf\\lib\\site-packages (from requests->emnist) (3.4)\n",
      "Requirement already satisfied: urllib3<1.27,>=1.21.1 in c:\\users\\meghanjali\\anaconda3\\envs\\tf\\lib\\site-packages (from requests->emnist) (1.26.15)\n",
      "Requirement already satisfied: certifi>=2017.4.17 in c:\\users\\meghanjali\\anaconda3\\envs\\tf\\lib\\site-packages (from requests->emnist) (2022.12.7)\n",
      "Requirement already satisfied: charset-normalizer<4,>=2 in c:\\users\\meghanjali\\anaconda3\\envs\\tf\\lib\\site-packages (from requests->emnist) (2.1.1)\n",
      "Requirement already satisfied: colorama in c:\\users\\meghanjali\\anaconda3\\envs\\tf\\lib\\site-packages (from tqdm->emnist) (0.4.6)\n",
      "Installing collected packages: emnist\n",
      "Successfully installed emnist-0.0\n"
     ]
    }
   ],
   "source": [
    "! pip install emnist"
   ]
  },
  {
   "cell_type": "code",
   "execution_count": 3,
   "id": "48a63844-dcff-430c-a55b-bd10aac30c6c",
   "metadata": {},
   "outputs": [
    {
     "name": "stderr",
     "output_type": "stream",
     "text": [
      "Downloading emnist.zip: 536MB [01:43, 5.43MB/s]                                                                                                                                                                   \n"
     ]
    },
    {
     "data": {
      "image/png": "[encoded data removed]",
      "text/plain": [
       "<Figure size 640x480 with 1 Axes>"
      ]
     },
     "metadata": {},
     "output_type": "display_data"
    }
   ],
   "source": [
    "import numpy as np\n",
    "import matplotlib.pyplot as plt\n",
    "from emnist import extract_training_samples\n",
    "\n",
    "# Load EMNIST dataset\n",
    "images, labels = extract_training_samples('letters')\n",
    "\n",
    "# Get index of letter M\n",
    "letter_M_index = np.where(labels == 13)[0][0]\n",
    "\n",
    "# Get image of letter M\n",
    "letter_M_image = images[letter_M_index]\n",
    "\n",
    "# Display image of letter M\n",
    "plt.imshow(letter_M_image, cmap='gray')\n",
    "plt.show()\n"
   ]
  },
  {
   "cell_type": "code",
   "execution_count": null,
   "id": "4adcec74-4148-4af0-93c7-3bb65211ed2a",
   "metadata": {},
   "outputs": [],
   "source": []
  }
 ],
 "metadata": {
  "kernelspec": {
   "display_name": "Python 3 (ipykernel)",
   "language": "python",
   "name": "python3"
  },
  "language_info": {
   "codemirror_mode": {
    "name": "ipython",
    "version": 3
   },
   "file_extension": ".py",
   "mimetype": "text/x-python",
   "name": "python",
   "nbconvert_exporter": "python",
   "pygments_lexer": "ipython3",
   "version": "3.9.16"
  }
 },
 "nbformat": 4,
 "nbformat_minor": 5
}
