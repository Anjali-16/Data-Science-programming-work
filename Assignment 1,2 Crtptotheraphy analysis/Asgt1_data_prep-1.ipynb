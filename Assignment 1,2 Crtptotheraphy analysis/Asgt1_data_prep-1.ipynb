{
 "cells": [
  {
   "cell_type": "markdown",
   "id": "d49e6f86-70d3-4936-a986-f1ae17725205",
   "metadata": {},
   "source": [
    "# Meghanjali Chennupati (U30308400)\n"
   ]
  },
  {
   "cell_type": "markdown",
   "id": "99633852-5735-4ba5-8bb5-b2c09c8370a5",
   "metadata": {},
   "source": [
    "# Description of the data set:\n",
    "\n",
    "The data set is about CRYPTOTHERAPHY ANALYSIS.This data set provides patients characterstics after the tratment the level of cancer.\n",
    "It states whether the cancer level is benign(1) or malignant(0). This data set contains the following attributes:\n",
    "1. SEX- It indicates the gender of the patient whetehrthe patient is a male or female.(1=male,2=female)\n",
    "2. AGE- It indicates the age of the patient.\n",
    "3. Time- This column indicates the time for the treatment in seconds.\n",
    "4. Number of warts- This column indicates the numbe rof warts that are grown on a patients body. ( Warts are skin growths caused by a virus. The virus infects the top layer of skin, causing it to grow rapidly.Warts can grow anywhere on your body. Most warts go away on their own, but they may come back.)\n",
    "5. Type : It indicates the type of wart. ( there are mainly three types of warts . 1,2,3 ( common warts, flat,filtform)\n",
    "6. Area: The composition of wart .\n",
    "7. Result of the tratment: It indicates the level of cancer after tratment.\n",
    "\n",
    "The target variable is Result of the tratment. It is a binary classifier. benign(1) or malignant(0).\n",
    "This data set is a classification type of problem.\n",
    "The data set contains the instances of the 90 patients that are obtained from the results of cryptotheraphy treatment.\n",
    "\n",
    "Source of the data set: It is taken from the Mashhad University of Medical Sciences, Mashhad, Iran. Fahime Khozeimeh, MD, Pouran Layegh, Professor of Dermatology and Roohallah Alizadehsani, PhD student and Mohamad Roshanzamir, PhD candidate.\n",
    "\n",
    "It is published in UCI MACHINE LEARNING REPOSITORY: https://archive.ics.uci.edu/ml/datasets/Cryotherapy+Dataset+\n"
   ]
  },
  {
   "cell_type": "markdown",
   "id": "0b73f243-36c1-45af-9fc3-1f65cae3889a",
   "metadata": {},
   "source": [
    "# Business problem statement and its purpose:\n",
    "1. The analysis of this data set will identify the results of the cancer treatment. It is a health care industry domain.\n",
    "2. Purpose :  This will helps the to explore and draw some inferences that may help the people to undergo the Cryotherapic treatment.\n",
    "3. It also helps the crytotheraphists to see the sttaistics and how well their treatment serves the people. How they can improve the level of treatment.\n",
    "4. It also helps to identify what age groups of patients  the treatment is getting malignant and what age groups of people is getting benign \n",
    "5. In this notebook I would like to do data preprocessing that is ready to apply modleing .\n",
    "6. For this assignment I would like to use the following algorithms (Discussed in class so far) to identify how well my models are trained and see how it performs of test data and if a new data is given it can able to predict the likelihood of results of level of tretament .\n"
   ]
  },
  {
   "cell_type": "markdown",
   "id": "2b7ca7b7-20df-4005-992c-b5b1b50e7e9f",
   "metadata": {},
   "source": [
    "# Step 1: Install all the libraries:"
   ]
  },
  {
   "cell_type": "code",
   "execution_count": 1,
   "id": "ee00048c-c3d0-4da7-9bf9-36a038b70c31",
   "metadata": {},
   "outputs": [],
   "source": [
    "# import numpy and pandas libraries\n",
    "import numpy as np\n",
    "import pandas as pd\n",
    "from sklearn.preprocessing import LabelEncoder\n",
    "from sklearn.model_selection import train_test_split\n",
    "from sklearn import preprocessing\n",
    "from sklearn.impute import SimpleImputer\n",
    "from sklearn.preprocessing import StandardScaler\n",
    "import summarytools\n",
    "from summarytools import dfSummary\n",
    "from sklearn.preprocessing import  MinMaxScaler"
   ]
  },
  {
   "cell_type": "markdown",
   "id": "842e4f1e-d48b-4ce4-a085-4f4a24bcad2c",
   "metadata": {},
   "source": [
    "# Step 2 : Setting up the random seed :\n",
    "This will helps us to produce reproducible results when we are running multiple times.\n"
   ]
  },
  {
   "cell_type": "code",
   "execution_count": 2,
   "id": "62f7c5ac-abfc-4a7b-a735-d08b98628b96",
   "metadata": {},
   "outputs": [],
   "source": [
    "np.random.seed(1)"
   ]
  },
  {
   "cell_type": "markdown",
   "id": "427f727a-be1d-446d-80bf-068c473923fd",
   "metadata": {},
   "source": [
    "# Step 3: Load the data"
   ]
  },
  {
   "cell_type": "code",
   "execution_count": 3,
   "id": "ace2a5da-aff6-4af2-beaf-165997bfaacd",
   "metadata": {},
   "outputs": [],
   "source": [
    "crypto_data=pd.read_csv(\"Cryotherapy.csv\")"
   ]
  },
  {
   "cell_type": "markdown",
   "id": "d712a258-9d72-4283-b749-f459541d5cb6",
   "metadata": {},
   "source": [
    "# Step 4: Conduct initial exploration of the data\n",
    "We have a number of input variables and one target variable. For this analysis, the target variable is Result_of_treatment.\n",
    "\n",
    "First, our initial exploration of the data should answer the following questions:\n",
    "\n",
    "How many rows and columns\n",
    "\n",
    "How much of a problem do we have with na's?\n",
    "\n",
    "What types of data are there?\n",
    "\n",
    "What types of data are stored in columns\n",
    "\n",
    "identify which variables are numeric and may need to be standardized later\n",
    "\n",
    "identify which variables are categorical and may need to be transformed using and encoders such as one-hot-encoder.\n",
    "\n",
    "Identify errors in the data - this is a common problem with categorical vars where the category is mispelled or spelled differently in some instances."
   ]
  },
  {
   "cell_type": "code",
   "execution_count": 4,
   "id": "82719e9c-886b-49cf-8529-5b0ab235c59a",
   "metadata": {},
   "outputs": [
    {
     "data": {
      "text/html": [
       "<div>\n",
       "<style scoped>\n",
       "    .dataframe tbody tr th:only-of-type {\n",
       "        vertical-align: middle;\n",
       "    }\n",
       "\n",
       "    .dataframe tbody tr th {\n",
       "        vertical-align: top;\n",
       "    }\n",
       "\n",
       "    .dataframe thead th {\n",
       "        text-align: right;\n",
       "    }\n",
       "</style>\n",
       "<table border=\"1\" class=\"dataframe\">\n",
       "  <thead>\n",
       "    <tr style=\"text-align: right;\">\n",
       "      <th></th>\n",
       "      <th>sex</th>\n",
       "      <th>age</th>\n",
       "      <th>Time</th>\n",
       "      <th>Number_of_Warts</th>\n",
       "      <th>Type</th>\n",
       "      <th>Area</th>\n",
       "      <th>Result_of_Treatment</th>\n",
       "    </tr>\n",
       "  </thead>\n",
       "  <tbody>\n",
       "    <tr>\n",
       "      <th>0</th>\n",
       "      <td>1</td>\n",
       "      <td>35</td>\n",
       "      <td>12.00</td>\n",
       "      <td>5</td>\n",
       "      <td>1</td>\n",
       "      <td>100</td>\n",
       "      <td>0</td>\n",
       "    </tr>\n",
       "    <tr>\n",
       "      <th>1</th>\n",
       "      <td>1</td>\n",
       "      <td>29</td>\n",
       "      <td>7.00</td>\n",
       "      <td>5</td>\n",
       "      <td>1</td>\n",
       "      <td>96</td>\n",
       "      <td>1</td>\n",
       "    </tr>\n",
       "    <tr>\n",
       "      <th>2</th>\n",
       "      <td>1</td>\n",
       "      <td>50</td>\n",
       "      <td>8.00</td>\n",
       "      <td>1</td>\n",
       "      <td>3</td>\n",
       "      <td>132</td>\n",
       "      <td>0</td>\n",
       "    </tr>\n",
       "    <tr>\n",
       "      <th>3</th>\n",
       "      <td>1</td>\n",
       "      <td>32</td>\n",
       "      <td>11.75</td>\n",
       "      <td>7</td>\n",
       "      <td>3</td>\n",
       "      <td>750</td>\n",
       "      <td>0</td>\n",
       "    </tr>\n",
       "    <tr>\n",
       "      <th>4</th>\n",
       "      <td>1</td>\n",
       "      <td>67</td>\n",
       "      <td>9.25</td>\n",
       "      <td>1</td>\n",
       "      <td>1</td>\n",
       "      <td>42</td>\n",
       "      <td>0</td>\n",
       "    </tr>\n",
       "  </tbody>\n",
       "</table>\n",
       "</div>"
      ],
      "text/plain": [
       "   sex  age   Time  Number_of_Warts  Type  Area  Result_of_Treatment\n",
       "0    1   35  12.00                5     1   100                    0\n",
       "1    1   29   7.00                5     1    96                    1\n",
       "2    1   50   8.00                1     3   132                    0\n",
       "3    1   32  11.75                7     3   750                    0\n",
       "4    1   67   9.25                1     1    42                    0"
      ]
     },
     "execution_count": 4,
     "metadata": {},
     "output_type": "execute_result"
    }
   ],
   "source": [
    "# look at the data\n",
    "crypto_data.head(5) # note that we don't want to dump all the data to the screen"
   ]
  },
  {
   "cell_type": "code",
   "execution_count": 5,
   "id": "894419c4-c1c4-4b52-9c05-9e64fdac1151",
   "metadata": {},
   "outputs": [
    {
     "name": "stdout",
     "output_type": "stream",
     "text": [
      "<class 'pandas.core.frame.DataFrame'>\n",
      "RangeIndex: 90 entries, 0 to 89\n",
      "Data columns (total 7 columns):\n",
      " #   Column               Non-Null Count  Dtype  \n",
      "---  ------               --------------  -----  \n",
      " 0   sex                  90 non-null     int64  \n",
      " 1   age                  90 non-null     int64  \n",
      " 2   Time                 90 non-null     float64\n",
      " 3   Number_of_Warts      90 non-null     int64  \n",
      " 4   Type                 90 non-null     int64  \n",
      " 5   Area                 90 non-null     int64  \n",
      " 6   Result_of_Treatment  90 non-null     int64  \n",
      "dtypes: float64(1), int64(6)\n",
      "memory usage: 5.0 KB\n"
     ]
    }
   ],
   "source": [
    "# generate a basic summary of the data\n",
    "crypto_data.info()"
   ]
  },
  {
   "cell_type": "code",
   "execution_count": 6,
   "id": "1f83efba-aaf9-4f6d-bdc2-09ea362434e7",
   "metadata": {},
   "outputs": [
    {
     "data": {
      "text/html": [
       "<div>\n",
       "<style scoped>\n",
       "    .dataframe tbody tr th:only-of-type {\n",
       "        vertical-align: middle;\n",
       "    }\n",
       "\n",
       "    .dataframe tbody tr th {\n",
       "        vertical-align: top;\n",
       "    }\n",
       "\n",
       "    .dataframe thead th {\n",
       "        text-align: right;\n",
       "    }\n",
       "</style>\n",
       "<table border=\"1\" class=\"dataframe\">\n",
       "  <thead>\n",
       "    <tr style=\"text-align: right;\">\n",
       "      <th></th>\n",
       "      <th>sex</th>\n",
       "      <th>age</th>\n",
       "      <th>Time</th>\n",
       "      <th>Number_of_Warts</th>\n",
       "      <th>Type</th>\n",
       "      <th>Area</th>\n",
       "      <th>Result_of_Treatment</th>\n",
       "    </tr>\n",
       "  </thead>\n",
       "  <tbody>\n",
       "    <tr>\n",
       "      <th>count</th>\n",
       "      <td>90.000000</td>\n",
       "      <td>90.000000</td>\n",
       "      <td>90.000000</td>\n",
       "      <td>90.000000</td>\n",
       "      <td>90.000000</td>\n",
       "      <td>90.000000</td>\n",
       "      <td>90.000000</td>\n",
       "    </tr>\n",
       "    <tr>\n",
       "      <th>mean</th>\n",
       "      <td>1.477778</td>\n",
       "      <td>28.600000</td>\n",
       "      <td>7.666667</td>\n",
       "      <td>5.511111</td>\n",
       "      <td>1.700000</td>\n",
       "      <td>85.833333</td>\n",
       "      <td>0.533333</td>\n",
       "    </tr>\n",
       "    <tr>\n",
       "      <th>std</th>\n",
       "      <td>0.502304</td>\n",
       "      <td>13.360852</td>\n",
       "      <td>3.406661</td>\n",
       "      <td>3.567155</td>\n",
       "      <td>0.905042</td>\n",
       "      <td>131.733153</td>\n",
       "      <td>0.501683</td>\n",
       "    </tr>\n",
       "    <tr>\n",
       "      <th>min</th>\n",
       "      <td>1.000000</td>\n",
       "      <td>15.000000</td>\n",
       "      <td>0.250000</td>\n",
       "      <td>1.000000</td>\n",
       "      <td>1.000000</td>\n",
       "      <td>4.000000</td>\n",
       "      <td>0.000000</td>\n",
       "    </tr>\n",
       "    <tr>\n",
       "      <th>25%</th>\n",
       "      <td>1.000000</td>\n",
       "      <td>18.000000</td>\n",
       "      <td>4.562500</td>\n",
       "      <td>2.000000</td>\n",
       "      <td>1.000000</td>\n",
       "      <td>20.000000</td>\n",
       "      <td>0.000000</td>\n",
       "    </tr>\n",
       "    <tr>\n",
       "      <th>50%</th>\n",
       "      <td>1.000000</td>\n",
       "      <td>25.500000</td>\n",
       "      <td>8.500000</td>\n",
       "      <td>5.000000</td>\n",
       "      <td>1.000000</td>\n",
       "      <td>70.000000</td>\n",
       "      <td>1.000000</td>\n",
       "    </tr>\n",
       "    <tr>\n",
       "      <th>75%</th>\n",
       "      <td>2.000000</td>\n",
       "      <td>35.000000</td>\n",
       "      <td>10.687500</td>\n",
       "      <td>8.000000</td>\n",
       "      <td>3.000000</td>\n",
       "      <td>100.000000</td>\n",
       "      <td>1.000000</td>\n",
       "    </tr>\n",
       "    <tr>\n",
       "      <th>max</th>\n",
       "      <td>2.000000</td>\n",
       "      <td>67.000000</td>\n",
       "      <td>12.000000</td>\n",
       "      <td>12.000000</td>\n",
       "      <td>3.000000</td>\n",
       "      <td>750.000000</td>\n",
       "      <td>1.000000</td>\n",
       "    </tr>\n",
       "  </tbody>\n",
       "</table>\n",
       "</div>"
      ],
      "text/plain": [
       "             sex        age       Time  Number_of_Warts       Type  \\\n",
       "count  90.000000  90.000000  90.000000        90.000000  90.000000   \n",
       "mean    1.477778  28.600000   7.666667         5.511111   1.700000   \n",
       "std     0.502304  13.360852   3.406661         3.567155   0.905042   \n",
       "min     1.000000  15.000000   0.250000         1.000000   1.000000   \n",
       "25%     1.000000  18.000000   4.562500         2.000000   1.000000   \n",
       "50%     1.000000  25.500000   8.500000         5.000000   1.000000   \n",
       "75%     2.000000  35.000000  10.687500         8.000000   3.000000   \n",
       "max     2.000000  67.000000  12.000000        12.000000   3.000000   \n",
       "\n",
       "             Area  Result_of_Treatment  \n",
       "count   90.000000            90.000000  \n",
       "mean    85.833333             0.533333  \n",
       "std    131.733153             0.501683  \n",
       "min      4.000000             0.000000  \n",
       "25%     20.000000             0.000000  \n",
       "50%     70.000000             1.000000  \n",
       "75%    100.000000             1.000000  \n",
       "max    750.000000             1.000000  "
      ]
     },
     "execution_count": 6,
     "metadata": {},
     "output_type": "execute_result"
    }
   ],
   "source": [
    "# generate a statistical summary of the numeric value in the data\n",
    "crypto_data.describe()"
   ]
  },
  {
   "cell_type": "code",
   "execution_count": 7,
   "id": "75dff53d-5d37-40c9-a4ca-22a0c10300da",
   "metadata": {},
   "outputs": [
    {
     "data": {
      "text/html": [
       "<style type=\"text/css\">\n",
       "#T_927a4 thead>tr>th {\n",
       "  text-align: left;\n",
       "}\n",
       "#T_927a4_row0_col0, #T_927a4_row1_col0, #T_927a4_row2_col0, #T_927a4_row3_col0, #T_927a4_row4_col0, #T_927a4_row5_col0, #T_927a4_row6_col0 {\n",
       "  text-align: left;\n",
       "  font-size: 12px;\n",
       "  vertical-align: middle;\n",
       "  width: 5%;\n",
       "  max-width: 50px;\n",
       "  min-width: 20px;\n",
       "}\n",
       "#T_927a4_row0_col1, #T_927a4_row1_col1, #T_927a4_row2_col1, #T_927a4_row3_col1, #T_927a4_row4_col1, #T_927a4_row5_col1, #T_927a4_row6_col1 {\n",
       "  text-align: left;\n",
       "  font-size: 12px;\n",
       "  vertical-align: middle;\n",
       "  width: 15%;\n",
       "  max-width: 200px;\n",
       "  min-width: 100px;\n",
       "  word-break: break-word;\n",
       "}\n",
       "#T_927a4_row0_col2, #T_927a4_row1_col2, #T_927a4_row2_col2, #T_927a4_row3_col2, #T_927a4_row4_col2, #T_927a4_row5_col2, #T_927a4_row6_col2 {\n",
       "  text-align: left;\n",
       "  font-size: 12px;\n",
       "  vertical-align: middle;\n",
       "  width: 30%;\n",
       "  min-width: 100px;\n",
       "}\n",
       "#T_927a4_row0_col3, #T_927a4_row1_col3, #T_927a4_row2_col3, #T_927a4_row3_col3, #T_927a4_row4_col3, #T_927a4_row5_col3, #T_927a4_row6_col3 {\n",
       "  text-align: left;\n",
       "  font-size: 12px;\n",
       "  vertical-align: middle;\n",
       "  width: 25%;\n",
       "  min-width: 100px;\n",
       "}\n",
       "#T_927a4_row0_col4, #T_927a4_row1_col4, #T_927a4_row2_col4, #T_927a4_row3_col4, #T_927a4_row4_col4, #T_927a4_row5_col4, #T_927a4_row6_col4 {\n",
       "  text-align: left;\n",
       "  font-size: 12px;\n",
       "  vertical-align: middle;\n",
       "  width: 20%;\n",
       "  min-width: 150px;\n",
       "}\n",
       "#T_927a4_row0_col5, #T_927a4_row1_col5, #T_927a4_row2_col5, #T_927a4_row3_col5, #T_927a4_row4_col5, #T_927a4_row5_col5, #T_927a4_row6_col5 {\n",
       "  text-align: left;\n",
       "  font-size: 12px;\n",
       "  vertical-align: middle;\n",
       "  width: 10%;\n",
       "}\n",
       "</style>\n",
       "<table id=\"T_927a4\">\n",
       "  <caption><strong>Data Frame Summary</strong><br>crypto_data<br>Dimensions: 90 x 7<br>Duplicates: 1</caption>\n",
       "  <thead>\n",
       "    <tr>\n",
       "      <th id=\"T_927a4_level0_col0\" class=\"col_heading level0 col0\" >No</th>\n",
       "      <th id=\"T_927a4_level0_col1\" class=\"col_heading level0 col1\" >Variable</th>\n",
       "      <th id=\"T_927a4_level0_col2\" class=\"col_heading level0 col2\" >Stats / Values</th>\n",
       "      <th id=\"T_927a4_level0_col3\" class=\"col_heading level0 col3\" >Freqs / (% of Valid)</th>\n",
       "      <th id=\"T_927a4_level0_col4\" class=\"col_heading level0 col4\" >Graph</th>\n",
       "      <th id=\"T_927a4_level0_col5\" class=\"col_heading level0 col5\" >Missing</th>\n",
       "    </tr>\n",
       "  </thead>\n",
       "  <tbody>\n",
       "    <tr>\n",
       "      <td id=\"T_927a4_row0_col0\" class=\"data row0 col0\" >1</td>\n",
       "      <td id=\"T_927a4_row0_col1\" class=\"data row0 col1\" ><strong>sex</strong><br>[int64]</td>\n",
       "      <td id=\"T_927a4_row0_col2\" class=\"data row0 col2\" >Mean (sd) : 1.5 (0.5)<br>min < med < max:<br>1.0 < 1.0 < 2.0<br>IQR (CV) : 1.0 (2.9)</td>\n",
       "      <td id=\"T_927a4_row0_col3\" class=\"data row0 col3\" >2 distinct values</td>\n",
       "      <td id=\"T_927a4_row0_col4\" class=\"data row0 col4\" ><img src = \"data:image/png;base64, iVBORw0KGgoAAAANSUhEUgAAAKoAAABGCAYAAABc8A97AAAAOXRFWHRTb2Z0d2FyZQBNYXRwbG90bGliIHZlcnNpb24zLjYuMiwgaHR0cHM6Ly9tYXRwbG90bGliLm9yZy8o6BhiAAAACXBIWXMAAA9hAAAPYQGoP6dpAAABfElEQVR4nO3YQWoCMRiG4aQMopsZRPAwHqKH7SG8jZS4qFLQ6a6bQtVRaT94nnXmJ4uXCUkdx7HAf/fy1xuAa3SXFtRaF6WU2cT5n+M4HiZ+C99+DbXWulitVq993y+nDN/v9++11jexcq9Lf9RZ3/fLzWZzGIbheMvg1tp8u90ud7vdrJQiVO5y8egvpZRhGI7r9fpjwvzFhG/gB5cpIgiVCFcd/XCNZ74QCZWHePYLkVB5lKe+EAmVh3rWC5HLFBGESgShEkGoRBAqEYRKBKESQahEECoRhEoEoRJBqEQQKhGESgShEkGoRBAqEYRKBKESQahEECoRhEoEoRJBqEQQKhGESgShEkGoRBAqEYRKBKESQahEECoRhEoEoRJBqEQQKhGESgShEkGoRBAqEYRKBKESQahEECoRhEoEoRJBqEQQKhGESgShEkGoRBAqEYRKBKESQahEECoRumsWtdbmtw5urc1Pp1NXSulrrTdvjDj9+XzuprZyac0Xp9ROfcfUsJ8AAAAASUVORK5CYII=\"></img></td>\n",
       "      <td id=\"T_927a4_row0_col5\" class=\"data row0 col5\" >0<br>(0.0%)</td>\n",
       "    </tr>\n",
       "    <tr>\n",
       "      <td id=\"T_927a4_row1_col0\" class=\"data row1 col0\" >2</td>\n",
       "      <td id=\"T_927a4_row1_col1\" class=\"data row1 col1\" ><strong>age</strong><br>[int64]</td>\n",
       "      <td id=\"T_927a4_row1_col2\" class=\"data row1 col2\" >Mean (sd) : 28.6 (13.4)<br>min < med < max:<br>15.0 < 25.5 < 67.0<br>IQR (CV) : 17.0 (2.1)</td>\n",
       "      <td id=\"T_927a4_row1_col3\" class=\"data row1 col3\" >24 distinct values</td>\n",
       "      <td id=\"T_927a4_row1_col4\" class=\"data row1 col4\" ><img src = \"data:image/png;base64, iVBORw0KGgoAAAANSUhEUgAAAKoAAABGCAYAAABc8A97AAAAOXRFWHRTb2Z0d2FyZQBNYXRwbG90bGliIHZlcnNpb24zLjYuMiwgaHR0cHM6Ly9tYXRwbG90bGliLm9yZy8o6BhiAAAACXBIWXMAAA9hAAAPYQGoP6dpAAACx0lEQVR4nO3dvY7aQBRA4Tv8yQZkC6GFjiZlJApKHiIPm0dIwRNQpKGis0DICGcJxpAmbJMV4Bl74+s9X71jKI7W65HvjrlerwJUXeN/fwHgGa1HP2CM8UWkY3n90/V6fbVcC7y5G6oxxh8Oh9+CIBjYXHy/3++MMd+JFa4e/UbtBEEwmM/nr2EYHvNcOI5jb7FYDLbbbUdECBVOHt76RUTCMDyORqNfFtf3LdYA/+BhCioQKlQgVKhAqFCBUKECoUIFQoUKhAoVCBUqECpUIFSoQKhQgVChAqFCBUKFCoQKFQgVKhAqVCBUqECoUIFQoQKhQgVChQqEChUIFSoQKlQgVKhAqFCBUKECoUIFQoUKhAoVCBUqPPUfpzVyPCRDhIMyKqWWoboekiHCQRlVU8tQxeGQDBEOyqiiuoYqIk6HZIhwUEal8DAFFQgVKpR668+yrC0igTHG9hINEblYrAsul0vb9kNRPaWFmiRJO03T6WQyaTabzdwPNFmWtZMk+dLv91eNRiPNszZNUy/Lsq/H4/GHiNj+jYoKKS3U0+nU8jyvO5vNjuPxeJd3/Xq9HiyXy5fZbPYz7/q/a7vn87mZ93NRTaU/9fd6Pasn791u59uuv61FffAwBRUIFSoQKlQgVKhAqFCBUKECoUIFQoUKtX7Nz4XjewpMBxSMUN/h+p4C0wHFI9R3uLyn8JmnAxzn1O7ehQj1Dtv3FOQTTge4zqk9ugsRKopiPaf2zF2IUFEohzm1u3chQi2B446B7VTDTS13HAi1YC47Bi5TDTd13XEg1IK57Bi4TDWI1HvHgVBL4jKZ4LDbIFLTHQdCxRvHfdBSJ38JFSLivg9a9uTvU6HGcezlvfDhcPBERJIk8aIo6n7keq2f7fq94zj2sixrid2OQ9Dv91+m0+nZ9/3feRdvNhtvtVp14zjuRVF0yrP2mb7+AK+IX/wFggEBAAAAAElFTkSuQmCC\"></img></td>\n",
       "      <td id=\"T_927a4_row1_col5\" class=\"data row1 col5\" >0<br>(0.0%)</td>\n",
       "    </tr>\n",
       "    <tr>\n",
       "      <td id=\"T_927a4_row2_col0\" class=\"data row2 col0\" >3</td>\n",
       "      <td id=\"T_927a4_row2_col1\" class=\"data row2 col1\" ><strong>Time</strong><br>[float64]</td>\n",
       "      <td id=\"T_927a4_row2_col2\" class=\"data row2 col2\" >Mean (sd) : 7.7 (3.4)<br>min < med < max:<br>0.2 < 8.5 < 12.0<br>IQR (CV) : 6.1 (2.3)</td>\n",
       "      <td id=\"T_927a4_row2_col3\" class=\"data row2 col3\" >36 distinct values</td>\n",
       "      <td id=\"T_927a4_row2_col4\" class=\"data row2 col4\" ><img src = \"data:image/png;base64, iVBORw0KGgoAAAANSUhEUgAAAKoAAABGCAYAAABc8A97AAAAOXRFWHRTb2Z0d2FyZQBNYXRwbG90bGliIHZlcnNpb24zLjYuMiwgaHR0cHM6Ly9tYXRwbG90bGliLm9yZy8o6BhiAAAACXBIWXMAAA9hAAAPYQGoP6dpAAACmklEQVR4nO3cwY6aUBSA4XPraFATiDHRnS/QpAuXPkQfto/QhU/gG7gzMQQjHSICXbVp0kGByx058H9bc2cI+SNyc8AURSFA13159QEAVby9+gDQH8aYqYhMGi6/FUXxXvYhoaIVxpjpcrn87vv+osn6y+USGmN+lMVKqGjLxPf9xW63ew+CIKmzMIoib7/fL87n80RECBXuBUGQrFarXw2WTh99yM0UVCBUqECoUIFQoQKhQgVChQqEChUIFSoQKlQgVKhAqFCBUKECoUIFQoUKjPnhL8sJfT/P83Gbx/MvQoWI2E/op2nqZVn2NUmSnyLSZB71IULFH40n9EVEjsfj4nA4zO73+8jFwRFqz1hcvv08z8dBEIRNJvTDMHw4oW+LUHvE5vLt+tJti1D7pfHl2/Wl2xah9lCTB+xcX7ptsY8KFQgVKhAqVCBUqECoUIFQoQKhQgX2UUu4fNcn6iPUD7h+1yfqI9SPOX3XJ+rrbahtDAE3nSSSJ+/6RH29DLXrQ8Cor5ehSseHgFFfX0MVkeav6e76JNEQsY8KFQgVKhAqVOj0b1TbB9XaPp7P0OVn61+ps6H2+UG1MmyrletsqNLjB9UeYFutRJdDFZF+Pqj2DNtq/+NmCioQKlQgVKjg9DcqWy1oi7NQ2WpBm1x+o7LVgtY4355iqwVt4GYKKhAqVCBUqPD0N+oQJ5hsZVk2FhHfGFN36WDP2TMPQx3iBJOtOI7HaZp+22w2o9FoVGu3Y6jnrIpn36hDnGCycrvd3jzPm22322S9Xod11g71nFVRaXtqiBNMtubzOeesRdxMQQVChQqEChUIFSoQKlQgVKhAqFCh0j5qFEVe3T98vV49EZE4jr3T6TT7zPVa/7fW47ZdX6Wv31mLlThvff1VAAAAAElFTkSuQmCC\"></img></td>\n",
       "      <td id=\"T_927a4_row2_col5\" class=\"data row2 col5\" >0<br>(0.0%)</td>\n",
       "    </tr>\n",
       "    <tr>\n",
       "      <td id=\"T_927a4_row3_col0\" class=\"data row3 col0\" >4</td>\n",
       "      <td id=\"T_927a4_row3_col1\" class=\"data row3 col1\" ><strong>Number_of_Warts</strong><br>[int64]</td>\n",
       "      <td id=\"T_927a4_row3_col2\" class=\"data row3 col2\" >Mean (sd) : 5.5 (3.6)<br>min < med < max:<br>1.0 < 5.0 < 12.0<br>IQR (CV) : 6.0 (1.5)</td>\n",
       "      <td id=\"T_927a4_row3_col3\" class=\"data row3 col3\" >12 distinct values</td>\n",
       "      <td id=\"T_927a4_row3_col4\" class=\"data row3 col4\" ><img src = \"data:image/png;base64, iVBORw0KGgoAAAANSUhEUgAAAKoAAABGCAYAAABc8A97AAAAOXRFWHRTb2Z0d2FyZQBNYXRwbG90bGliIHZlcnNpb24zLjYuMiwgaHR0cHM6Ly9tYXRwbG90bGliLm9yZy8o6BhiAAAACXBIWXMAAA9hAAAPYQGoP6dpAAACqUlEQVR4nO3cP2/aQByH8d9BQOaPjBBqsrF0rNSBkRfRF9uX0IFXwNAlExsSQo7iBmEMndKlNOC7XPDXfT5zz1joUTife+dOp5MBdde69Q0A17i79A+ccz0z63pef386nV48xwJ/vBmqc643mUy+pWk69rn409PT1jn3nVgR6tJf1G6apuP5fP4yGo12VS6cZVmyWCzGm82ma2aEiiAXf/rNzEaj0e7+/v6Xx/V7HmOAv/AwBQmECgmECgmECgmECgmECgmECgmECgmECgmECgmECgmECgmECgmECgmECgmECgmECgmECgmECgmECgmECgmECgmECgmECgmECgmECgmECglXnT3lqyzLjpmlzjnfS3BspZCYR5RGCzXP805RFF+n02m73W5XOgnwFcdW6oh9RGm0UPf7/V2SJP3ZbLZ7eHjYVh3PsZVyoh5RGvWn38xsMBj4HllpxrGVcmIdUcrDFCQQKiQQKiQQKiREf5i6lcA1PTPWcGulkaGGrumZsYZbN40M1QLW9MxYw62jpoZqZkFremas4dYKD1OQQKiQQKiQQKiQQKiQQKiQQKiQ0Oh11BCB22haZnb0/Ghe3Z5BqGeEbKMpy7KT5/nn4XD42Gq1iqqfzavb8wj1jJBtNKvVarxcLj/NZrOfVcfy6vbfCPUNPttottttz3esmVlZlqmF7dxt5LSDUGskdOduk6cdhFojoTt3mzztqHWoAU/e6fF47ES4pQ/hO2248bQj6nde21BDfgaLokjKsvyy2+1+mJnvf/P7r4ROO2J/57UN9R2evPuHw6Ed6/6a5p2mHdG+89qG+irkyRvVhU47YuEVKiQQKiQQKiQQKiQQKiQQKiQQKiRctY6aZVlS9cLPz8+JmVme58l6ve5/5HjVz1a979Dx1/T1GyphqqSmtn39AAAAAElFTkSuQmCC\"></img></td>\n",
       "      <td id=\"T_927a4_row3_col5\" class=\"data row3 col5\" >0<br>(0.0%)</td>\n",
       "    </tr>\n",
       "    <tr>\n",
       "      <td id=\"T_927a4_row4_col0\" class=\"data row4 col0\" >5</td>\n",
       "      <td id=\"T_927a4_row4_col1\" class=\"data row4 col1\" ><strong>Type</strong><br>[int64]</td>\n",
       "      <td id=\"T_927a4_row4_col2\" class=\"data row4 col2\" >Mean (sd) : 1.7 (0.9)<br>min < med < max:<br>1.0 < 1.0 < 3.0<br>IQR (CV) : 2.0 (1.9)</td>\n",
       "      <td id=\"T_927a4_row4_col3\" class=\"data row4 col3\" >3 distinct values</td>\n",
       "      <td id=\"T_927a4_row4_col4\" class=\"data row4 col4\" ><img src = \"data:image/png;base64, iVBORw0KGgoAAAANSUhEUgAAAKoAAABGCAYAAABc8A97AAAAOXRFWHRTb2Z0d2FyZQBNYXRwbG90bGliIHZlcnNpb24zLjYuMiwgaHR0cHM6Ly9tYXRwbG90bGliLm9yZy8o6BhiAAAACXBIWXMAAA9hAAAPYQGoP6dpAAABm0lEQVR4nO3cQYriQBiG4apBRDcJIngYD9GHnUN4G2niYroZ0MyuNwOjxhQ9H3medVJEeYmU8Fcdx7HA/+7Hdz8APGJ174Ja67aUsp64/u9xHD8m3gtf/hlqrXW73+/fuq7bTVn8crm811p/ipVX3Xujrruu2x2Px4++7z+fWXgYhs3pdNqdz+d1KUWovOTuT38ppfR9/3k4HH5NWH874R74i80UEYRKBKESQahEECoRhEoEoRJBqEQQKhGESgShEkGoRBAqEYRKBKESQahEECoRhEoEoRJBqEQQKhGESgShEkGoRBAqEYRKBKESQahEECoRhEqEh46dhEe0PJ1cqMyi9enkQmUuTU8nFyqzanU6uc0UEYRKBKESQahEECoRhEoEoRJBqEQQKhGESgShEkGoRBAqEYRKBKESQahEECoRhEoEoygNtJzGXCqhzqz1NOZSCXV+Tacxl0qojbSaxlwqmykiCJUIQiWCUIkgVCIIlQhCJcJD/6MOw7B5duFhGDbX63VVSulqrU8/WLDudrutFvidvfS5713zB3oCdwL2kBtaAAAAAElFTkSuQmCC\"></img></td>\n",
       "      <td id=\"T_927a4_row4_col5\" class=\"data row4 col5\" >0<br>(0.0%)</td>\n",
       "    </tr>\n",
       "    <tr>\n",
       "      <td id=\"T_927a4_row5_col0\" class=\"data row5 col0\" >6</td>\n",
       "      <td id=\"T_927a4_row5_col1\" class=\"data row5 col1\" ><strong>Area</strong><br>[int64]</td>\n",
       "      <td id=\"T_927a4_row5_col2\" class=\"data row5 col2\" >Mean (sd) : 85.8 (131.7)<br>min < med < max:<br>4.0 < 70.0 < 750.0<br>IQR (CV) : 80.0 (0.7)</td>\n",
       "      <td id=\"T_927a4_row5_col3\" class=\"data row5 col3\" >22 distinct values</td>\n",
       "      <td id=\"T_927a4_row5_col4\" class=\"data row5 col4\" ><img src = \"data:image/png;base64, iVBORw0KGgoAAAANSUhEUgAAAKoAAABGCAYAAABc8A97AAAAOXRFWHRTb2Z0d2FyZQBNYXRwbG90bGliIHZlcnNpb24zLjYuMiwgaHR0cHM6Ly9tYXRwbG90bGliLm9yZy8o6BhiAAAACXBIWXMAAA9hAAAPYQGoP6dpAAACGUlEQVR4nO3dwWrqQBiG4X+ONiQVZggB3XkJXbjMRfRiz0V4MYKUiKmixHRzPBQKNZkQ9YP3WXemQl4UN5+ubVsDnt2fR78AoIvprT9wzmVmlkTef2rb9hB5Fvjv11Cdc1lRFO/e+zzm8t1u9+Gc+0usGOrWO2rivc/LsjyEEI59Lq6qKl2v1/l2u03MjFAxyM2PfjOzEMJxPp9/RtyfRZwBfuDLFCQQKiQQKiQQKiQQKiQQKiQQKiQQKiQQKiQQKiQQKiQQKiQQKiQQKiQQKiQQKiQQKiQQKiQQKiQQKiQQKiQQKiQQKiQQKiQQKiQQKiR0mvSJ1TTNi5l551zsFawBwsxGDLWu65fz+fy2XC4nk8mk18DaFWuAuBot1NPpNE3T9HW1Wh0Xi8VH3/OsAeK7UT/6zcxms1nsEqAZa4D4hy9TkECokECokECokECokECokECokECokECokECokECokECokECokECokECokECokECokECokECokECokECokECokECokECokECokECokECokECokECokDD6mt8QA4eAGQG+M+dcZmZJ5PFfn9fThjp0CJgR4PtyzmVFUbx77/OY87ee19OGOmQImBHgh0i893lZlocQQq83li7P62lDvRowBMwI8AOEEEZ5Xp1Craoq7ftf9/t9amZW13W62Wxe73m+qqq0aZqpDfuhC/TjL5fLNKaVLme+AGEVsaNzaq3xAAAAAElFTkSuQmCC\"></img></td>\n",
       "      <td id=\"T_927a4_row5_col5\" class=\"data row5 col5\" >0<br>(0.0%)</td>\n",
       "    </tr>\n",
       "    <tr>\n",
       "      <td id=\"T_927a4_row6_col0\" class=\"data row6 col0\" >7</td>\n",
       "      <td id=\"T_927a4_row6_col1\" class=\"data row6 col1\" ><strong>Result_of_Treatment</strong><br>[int64]</td>\n",
       "      <td id=\"T_927a4_row6_col2\" class=\"data row6 col2\" >Mean (sd) : 0.5 (0.5)<br>min < med < max:<br>0.0 < 1.0 < 1.0<br>IQR (CV) : 1.0 (1.1)</td>\n",
       "      <td id=\"T_927a4_row6_col3\" class=\"data row6 col3\" >2 distinct values</td>\n",
       "      <td id=\"T_927a4_row6_col4\" class=\"data row6 col4\" ><img src = \"data:image/png;base64, iVBORw0KGgoAAAANSUhEUgAAAKoAAABGCAYAAABc8A97AAAAOXRFWHRTb2Z0d2FyZQBNYXRwbG90bGliIHZlcnNpb24zLjYuMiwgaHR0cHM6Ly9tYXRwbG90bGliLm9yZy8o6BhiAAAACXBIWXMAAA9hAAAPYQGoP6dpAAABeUlEQVR4nO3YQWoCMRiG4aSI6GYGETyMh+hhewhvIyUuqhR0egLrKA72K8+zTTJk8TKQvw7DUOCve3v1BWCM2asvwP9Ra12WUuYPHv8ehuF4bVGoPEWtdbler9+7rls9cv5wOHzWWj+uxSpUnmXedd1qu90e+74/3XOwtbbY7Xar/X4/L6UIlen1fX/abDZfDxxd/rboMUUEoRJBqEQQKhGESoSbr/4ph7gw1q+hTj3EhbFu/VEnHeLCWKMG/lMNcWEsjykiCJUIQiWCUIkgVCIIlQhCJYJQiSBUIgiVCEIlglCJIFQiCJUIQiWCUIkgVCIIlQhCJYJQiSBUIgiVCEIlglCJIFQiCJUIQiWCUIkgVCIIlQhCJYJQiSBUIgiVCEIlglCJIFQiCJUIQiWCUIkgVCIIlQhCJYJQiSBUIgiVCEIlglCJIFQiCJUIQiWCUIkgVCIIlQizMZtaa4t7P9xaW5zP51kppau13n0x4nSXy2X2aCu39vwAcfxOfWxQ2ekAAAAASUVORK5CYII=\"></img></td>\n",
       "      <td id=\"T_927a4_row6_col5\" class=\"data row6 col5\" >0<br>(0.0%)</td>\n",
       "    </tr>\n",
       "  </tbody>\n",
       "</table>\n"
      ],
      "text/plain": [
       "<pandas.io.formats.style.Styler at 0x21152e15eb0>"
      ]
     },
     "execution_count": 7,
     "metadata": {},
     "output_type": "execute_result"
    }
   ],
   "source": [
    "# Another way of displaying summary statistics for our data is through summary tools:\n",
    "\n",
    "dfSummary(crypto_data)"
   ]
  },
  {
   "cell_type": "code",
   "execution_count": 8,
   "id": "a4cadcd6-4ec0-45f5-9114-6ac1af726f38",
   "metadata": {},
   "outputs": [
    {
     "data": {
      "text/plain": [
       "sex                    0\n",
       "age                    0\n",
       "Time                   0\n",
       "Number_of_Warts        0\n",
       "Type                   0\n",
       "Area                   0\n",
       "Result_of_Treatment    0\n",
       "dtype: int64"
      ]
     },
     "execution_count": 8,
     "metadata": {},
     "output_type": "execute_result"
    }
   ],
   "source": [
    "# Check the missing values by summing the total na's for each variable\n",
    "crypto_data.isna().sum()"
   ]
  },
  {
   "cell_type": "code",
   "execution_count": 9,
   "id": "818d2e9c-6070-4a7d-9320-046220aa4d98",
   "metadata": {},
   "outputs": [
    {
     "data": {
      "text/plain": [
       "(90, 7)"
      ]
     },
     "execution_count": 9,
     "metadata": {},
     "output_type": "execute_result"
    }
   ],
   "source": [
    "crypto_data.shape"
   ]
  },
  {
   "cell_type": "code",
   "execution_count": 10,
   "id": "7204a1ea-40e9-4f5f-9ec9-d9190879a9db",
   "metadata": {},
   "outputs": [
    {
     "data": {
      "text/plain": [
       "Text(0.5, 1.0, 'Result_of_Treatment')"
      ]
     },
     "execution_count": 10,
     "metadata": {},
     "output_type": "execute_result"
    },
    {
     "data": {
      "image/png": "[encoded data removed]",
      "text/plain": [
       "<Figure size 640x480 with 1 Axes>"
      ]
     },
     "metadata": {},
     "output_type": "display_data"
    }
   ],
   "source": [
    "crypto_data['Result_of_Treatment'].value_counts().plot(kind='bar').set_title('Result_of_Treatment')"
   ]
  },
  {
   "cell_type": "code",
   "execution_count": 11,
   "id": "2ce5ba9c-9b79-43e0-8f15-62f65187013d",
   "metadata": {},
   "outputs": [
    {
     "name": "stdout",
     "output_type": "stream",
     "text": [
      "Class ratios:\n",
      "1    0.533333\n",
      "0    0.466667\n",
      "Name: Result_of_Treatment, dtype: float64\n"
     ]
    }
   ],
   "source": [
    "class_counts = crypto_data['Result_of_Treatment'].value_counts()\n",
    "class_ratios = class_counts / class_counts.sum()\n",
    "print(\"Class ratios:\")\n",
    "print(class_ratios)"
   ]
  },
  {
   "cell_type": "markdown",
   "id": "63599c22-57bf-46a5-9205-c9879d75e053",
   "metadata": {},
   "source": [
    "# Summary the findings from our initial evaluation of the data\n",
    "1. If we observe from the above outputs there are total 90 rows and 7 columns.\n",
    "2. All the variables are of int64 data type.\n",
    "3. Only Time is float64 data type.\n",
    "4. If we observe na's all the columns got 0 . It means there are no na's.\n",
    "5. There is no object data type. No need to type caste.\n",
    "6. If we observe the summary output it contains the distinct values in each column.\n",
    "7. Categorical variables are there but they are already encoded so no need to  do encoding . Other wise I can do one hot or dummy encoding.\n",
    "8. Sex,Type, Result-of_treatment are categorical. But they are already encoded in data itself.\n",
    "9. Age, Time, Numbe_of_Warts, Area  are continous variables. \n",
    "10. From the above graph if you observe there is no much difference between two classes . If i have significant (very large difference of one class having 99 percent other class having 1 percent then it is important to address data imbalance. so Here in my data set i am not adressing data imbalance as we see the above ratios 1- 0.53, 0- 0.46. (Its  quite ok)."
   ]
  },
  {
   "cell_type": "markdown",
   "id": "494e29b9-17a1-449a-845f-5ffa3b3f9b5a",
   "metadata": {},
   "source": [
    "#  Process the data\n",
    "\n",
    "Conduct any data prepartion that should be done BEFORE the data split.\n",
    "\n",
    "Split the data.\n",
    "\n",
    "Conduct any data preparation that should be done AFTER the data split."
   ]
  },
  {
   "cell_type": "markdown",
   "id": "0bddf460-a94e-4e3c-a158-8104ffbcc975",
   "metadata": {},
   "source": [
    " #  Conduct any data prepartion that should be done BEFORE the data split\n",
    "\n",
    "  Tasks at this stage include:\n",
    "  \n",
    "  Drop any columns/features -  \n",
    "    \n",
    "    In my data set each of the variable is useful. So i am including everything and not dropping.\n",
    "    \n",
    "    Decide if you with to exclude any observations (rows) due to missing na's.\n",
    "  \n",
    "    In this data set from the intial exploration there are no null values. \n",
    "   \n",
    "    Conduct proper encoding of categorical variables You can transform them using dummy variable encoding, one-hot-encoding, or label encoding.\n",
    "     \n",
    "    As I mentioned above  Sex,Type, Result-of_treatment  are categorical but they are already encoded no need to encode"
   ]
  },
  {
   "cell_type": "markdown",
   "id": "159d93eb-3346-4f58-b19a-2dad8efc39b7",
   "metadata": {},
   "source": [
    "# Seperate the Independent and dependent variables\n"
   ]
  },
  {
   "cell_type": "code",
   "execution_count": 128,
   "id": "16ef983f-3ab0-42dd-8077-1d0eb4d4d66e",
   "metadata": {},
   "outputs": [],
   "source": [
    "\n",
    "target = 'Result_of_Treatment'\n",
    "predictors = list(crypto_data.columns)\n",
    "predictors.remove(target)"
   ]
  },
  {
   "cell_type": "markdown",
   "id": "53484997-058a-4a87-94d5-b7ba014b05d9",
   "metadata": {},
   "source": [
    "# Split the data in to training and testing set"
   ]
  },
  {
   "cell_type": "code",
   "execution_count": 129,
   "id": "494d1a9a-ebfc-480c-adec-9fd994668078",
   "metadata": {},
   "outputs": [],
   "source": [
    "train_df, test_df = train_test_split(crypto_data, test_size=0.3)"
   ]
  },
  {
   "cell_type": "markdown",
   "id": "0c8931fd-3869-484f-a312-0fde9dbf5b5b",
   "metadata": {},
   "source": [
    "# Conduct any data prepartion that should be done AFTER the data split\n",
    "We will look at the following:\n",
    "\n",
    "imput any missing numeric values using the mean of the variable/column\n",
    "\n",
    "   There are no missing values . so no need to impute in our data set.\n",
    "\n",
    "remove differences of scale by standardizing the numerical variables\n",
    "    \n",
    "      This step is usually done to remove the influence of scale so that all the variables are kept on same scale.\n",
    "      \n",
    "      Algorithims like decision tree are insensitive to scaling. Not necessary.\n",
    "      \n",
    "      But Algorithims svm, log reg are sensitive to scaling. Necessary.\n",
    "      \n",
    "      So I am doing this scaling using standard scaler. I can also use minmax but as per class i am following standard scaler.\n",
    "      \n",
    "      As in asgt i am using logisticregression, svm,decisiontrees . So, for svm logistic it is better to do scaling since they are sensitive to scaling so i am doing scaling using Standard scaler"
   ]
  },
  {
   "cell_type": "markdown",
   "id": "9f3b8e2e-3894-4c04-9efd-ff86fe4c8ec0",
   "metadata": {},
   "source": [
    "# Scale the data using standard scalar to remove the influence of range of values"
   ]
  },
  {
   "cell_type": "code",
   "execution_count": 130,
   "id": "8d98a27c-d657-4129-aee8-f8a5d4351eaf",
   "metadata": {},
   "outputs": [],
   "source": [
    "# create a standard scaler and fit it to the training set of predictors\n",
    "scaler = preprocessing.StandardScaler()\n",
    "cols_to_stdize = ['Number_of_Warts','Area','Time','age']                \n",
    "               \n",
    "scaler = preprocessing.StandardScaler()\n",
    "scaler.fit(train_df[cols_to_stdize])\n",
    "\n",
    "# Transform the predictors of training and validation sets\n",
    "train_X = scaler.transform(train_df[cols_to_stdize]) # train_predictors is not a numpy array\n",
    "train_y = train_df[target] # train_target is now a series object\n",
    "\n",
    "test_X = scaler.transform(test_df[cols_to_stdize]) # validation_target is now a series object\n",
    "test_y = test_df[target] # validation_target is now a series object"
   ]
  },
  {
   "cell_type": "markdown",
   "id": "447d583f-7188-4a30-bae9-6d895ebba6ad",
   "metadata": {},
   "source": [
    "# Explaination\n",
    "\n",
    "I have scaled all my numeric continous value columns Number_of_warts,Area,Time,age to remove the influence of scale.\n",
    "\n",
    " i saved to the seperate files"
   ]
  },
  {
   "cell_type": "markdown",
   "id": "50716172-f66a-428e-94aa-01e4079bcebf",
   "metadata": {},
   "source": [
    "# Save the data"
   ]
  },
  {
   "cell_type": "code",
   "execution_count": 131,
   "id": "e9bca8a9-a355-44d8-a8e7-62fc31b3ce18",
   "metadata": {},
   "outputs": [],
   "source": [
    "train_X = train_df[predictors]\n",
    "train_y = train_df[target] # train_target is now a series objecttrain_df.to_csv('airbnb_train_df.csv', index=False)\n",
    "test_X = test_df[predictors]\n",
    "test_y = test_df[target] # validation_target is now a series object\n",
    "\n",
    "train_df.to_csv('crypto_data_train_df.csv', index=False)\n",
    "train_X.to_csv('crypto_data_train_X.csv', index=False)\n",
    "train_y.to_csv('crypto_data_train_y.csv', index=False)\n",
    "test_df.to_csv('crypto_data_test_df.csv', index=False)\n",
    "test_X.to_csv('crypto_data_test_X.csv', index=False)\n",
    "test_y.to_csv('crypto_data_test_y.csv', index=False)"
   ]
  }
 ],
 "metadata": {
  "kernelspec": {
   "display_name": "Python 3 (ipykernel)",
   "language": "python",
   "name": "python3"
  },
  "language_info": {
   "codemirror_mode": {
    "name": "ipython",
    "version": 3
   },
   "file_extension": ".py",
   "mimetype": "text/x-python",
   "name": "python",
   "nbconvert_exporter": "python",
   "pygments_lexer": "ipython3",
   "version": "3.9.16"
  }
 },
 "nbformat": 4,
 "nbformat_minor": 5
}
